{
  "nbformat": 4,
  "nbformat_minor": 0,
  "metadata": {
    "colab": {
      "name": "bdleons_QuanconnectTutortials.ipynb",
      "provenance": [],
      "toc_visible": true
    },
    "kernelspec": {
      "name": "python3",
      "display_name": "Python 3"
    },
    "language_info": {
      "name": "python"
    }
  },
  "cells": [
    {
      "cell_type": "markdown",
      "metadata": {
        "id": "tJAJop30tFZO"
      },
      "source": [
        "# Introduction - Data Types and Data Structures"
      ]
    },
    {
      "cell_type": "code",
      "metadata": {
        "colab": {
          "base_uri": "https://localhost:8080/"
        },
        "id": "CGkVHikHtOb5",
        "outputId": "709d5217-65e8-41aa-8042-25a94e415968"
      },
      "source": [
        "# Strings\n",
        "my_string1 = 'Welcome to'\n",
        "my_string2 = \"QuantConnect\"\n",
        "print(my_string1 + ' ' + my_string2)"
      ],
      "execution_count": null,
      "outputs": [
        {
          "output_type": "stream",
          "name": "stdout",
          "text": [
            "Welcome to QuantConnect\n"
          ]
        }
      ]
    },
    {
      "cell_type": "code",
      "metadata": {
        "colab": {
          "base_uri": "https://localhost:8080/"
        },
        "id": "SSDswkXfu8un",
        "outputId": "12795174-924f-4193-acdd-6d5f7337d600"
      },
      "source": [
        "my_New_string1 = 'Goodbye'\n",
        "my_New_string2 = \"World\"\n",
        "print(my_New_string1 + ' ' + my_New_string2)"
      ],
      "execution_count": null,
      "outputs": [
        {
          "output_type": "stream",
          "name": "stdout",
          "text": [
            "Goodbye World\n"
          ]
        }
      ]
    },
    {
      "cell_type": "code",
      "metadata": {
        "colab": {
          "base_uri": "https://localhost:8080/"
        },
        "id": "_aiSq7HsxORU",
        "outputId": "a36d8240-a244-4c4f-da43-33f72f142c7c"
      },
      "source": [
        "# Integer\n",
        "my_int = 10\n",
        "print(my_int)"
      ],
      "execution_count": null,
      "outputs": [
        {
          "output_type": "stream",
          "name": "stdout",
          "text": [
            "10\n"
          ]
        }
      ]
    },
    {
      "cell_type": "code",
      "metadata": {
        "colab": {
          "base_uri": "https://localhost:8080/"
        },
        "id": "s27BDYByxQZu",
        "outputId": "fff6007f-4d34-4317-cd4f-cc37b9b287c9"
      },
      "source": [
        "my_New_int = 1276\n",
        "print(my_New_int)"
      ],
      "execution_count": null,
      "outputs": [
        {
          "output_type": "stream",
          "name": "stdout",
          "text": [
            "1276\n"
          ]
        }
      ]
    },
    {
      "cell_type": "code",
      "metadata": {
        "colab": {
          "base_uri": "https://localhost:8080/"
        },
        "id": "HBW9aA-6xnhf",
        "outputId": "630959c5-545f-4016-bdb7-438894042b49"
      },
      "source": [
        "print(type(my_int))\n",
        "print(type(my_New_int))"
      ],
      "execution_count": null,
      "outputs": [
        {
          "output_type": "stream",
          "name": "stdout",
          "text": [
            "<class 'int'>\n",
            "<class 'int'>\n"
          ]
        }
      ]
    },
    {
      "cell_type": "code",
      "metadata": {
        "colab": {
          "base_uri": "https://localhost:8080/"
        },
        "id": "fpW30LoN00CZ",
        "outputId": "e89e06bd-29eb-4beb-9177-65ec8e080eea"
      },
      "source": [
        "# String to integer\n",
        "my_string = \"100\"\n",
        "print(type(my_string))"
      ],
      "execution_count": null,
      "outputs": [
        {
          "output_type": "stream",
          "name": "stdout",
          "text": [
            "<class 'str'>\n"
          ]
        }
      ]
    },
    {
      "cell_type": "code",
      "metadata": {
        "colab": {
          "base_uri": "https://localhost:8080/"
        },
        "id": "3VQM3sTW05X7",
        "outputId": "cd1028c8-ee67-4060-8b1f-cb425142f484"
      },
      "source": [
        "my_int = int(my_string)\n",
        "print(type(my_int))"
      ],
      "execution_count": null,
      "outputs": [
        {
          "output_type": "stream",
          "name": "stdout",
          "text": [
            "<class 'int'>\n"
          ]
        }
      ]
    },
    {
      "cell_type": "code",
      "metadata": {
        "colab": {
          "base_uri": "https://localhost:8080/"
        },
        "id": "cDwPijD51JXK",
        "outputId": "788748a4-4b99-4da8-ba1f-2448c4152faf"
      },
      "source": [
        "my_New_string = \"727\"\n",
        "print(type(my_New_string))"
      ],
      "execution_count": null,
      "outputs": [
        {
          "output_type": "stream",
          "name": "stdout",
          "text": [
            "<class 'str'>\n"
          ]
        }
      ]
    },
    {
      "cell_type": "code",
      "metadata": {
        "colab": {
          "base_uri": "https://localhost:8080/"
        },
        "id": "8oL2_5Vq1XAD",
        "outputId": "fa17f6d4-fa2d-4b60-9141-e101112ea2d9"
      },
      "source": [
        "my_New_int = int(my_New_string)\n",
        "print(type(my_New_int))"
      ],
      "execution_count": null,
      "outputs": [
        {
          "output_type": "stream",
          "name": "stdout",
          "text": [
            "<class 'int'>\n"
          ]
        }
      ]
    },
    {
      "cell_type": "code",
      "metadata": {
        "colab": {
          "base_uri": "https://localhost:8080/"
        },
        "id": "7U1dTtgxOKhz",
        "outputId": "2868801b-eff5-4404-9551-6adc8655b56f"
      },
      "source": [
        "# Floating Point Number\n",
        "my_float = 1.0\n",
        "my_float_b = 727.27\n",
        "print(type(my_float))\n",
        "print(type(my_float_b))"
      ],
      "execution_count": null,
      "outputs": [
        {
          "output_type": "stream",
          "name": "stdout",
          "text": [
            "<class 'float'>\n",
            "<class 'float'>\n"
          ]
        }
      ]
    },
    {
      "cell_type": "code",
      "metadata": {
        "colab": {
          "base_uri": "https://localhost:8080/"
        },
        "id": "ExIgvn7cOUxc",
        "outputId": "f687095b-d722-4be1-cef3-eb5257325481"
      },
      "source": [
        "my_int = 1\n",
        "myint = 727\n",
        "print(type(my_int))\n",
        "print(type(myint))"
      ],
      "execution_count": null,
      "outputs": [
        {
          "output_type": "stream",
          "name": "stdout",
          "text": [
            "<class 'int'>\n",
            "<class 'int'>\n"
          ]
        }
      ]
    },
    {
      "cell_type": "code",
      "metadata": {
        "colab": {
          "base_uri": "https://localhost:8080/"
        },
        "id": "LwpYGo2TO4r2",
        "outputId": "ef13fa8e-e910-4e2f-809f-dd2b96478c86"
      },
      "source": [
        "# Boolean\n",
        "my_bool = False\n",
        "my_bool_b= True\n",
        "print(my_bool)\n",
        "print(my_bool_b)"
      ],
      "execution_count": null,
      "outputs": [
        {
          "output_type": "stream",
          "name": "stdout",
          "text": [
            "False\n",
            "True\n"
          ]
        }
      ]
    },
    {
      "cell_type": "code",
      "metadata": {
        "colab": {
          "base_uri": "https://localhost:8080/"
        },
        "id": "cVbTgVr6PD_X",
        "outputId": "2213a239-346a-4c30-9fca-23f4b9866110"
      },
      "source": [
        "print(type(my_bool))\n",
        "print(type(my_bool_b))"
      ],
      "execution_count": null,
      "outputs": [
        {
          "output_type": "stream",
          "name": "stdout",
          "text": [
            "<class 'bool'>\n",
            "<class 'bool'>\n"
          ]
        }
      ]
    },
    {
      "cell_type": "code",
      "metadata": {
        "colab": {
          "base_uri": "https://localhost:8080/"
        },
        "id": "8jh3BUKBP0Ly",
        "outputId": "52961132-f106-4a5c-93eb-80adfa899e99"
      },
      "source": [
        "# Basic Math Operations\n",
        "print(\"Addition \", 1+1)\n",
        "print(\"Subtraction \", 5-2)\n",
        "print(\"Multiplication \", 2*3)\n",
        "print(\"Division\", 10/2)\n",
        "print(\"exponent\", 2**3)"
      ],
      "execution_count": null,
      "outputs": [
        {
          "output_type": "stream",
          "name": "stdout",
          "text": [
            "Addition  2\n",
            "Subtraction  3\n",
            "Multiplication  6\n",
            "Division 5.0\n",
            "exponent 8\n"
          ]
        }
      ]
    },
    {
      "cell_type": "code",
      "metadata": {
        "colab": {
          "base_uri": "https://localhost:8080/"
        },
        "id": "qg1lcUaVP461",
        "outputId": "906bd3cc-2170-4455-b543-7f34849e42f9"
      },
      "source": [
        "print(\"Suma \", 700+27)\n",
        "print(\"Resta \", 456-98)\n",
        "print(\"Multiplicacion \", 5*3)\n",
        "print(\"Division\", 727/2)\n",
        "print(\"Exponente\", 3**3)"
      ],
      "execution_count": null,
      "outputs": [
        {
          "output_type": "stream",
          "name": "stdout",
          "text": [
            "Suma  727\n",
            "Resta  358\n",
            "Multiplicacion  15\n",
            "Division 363.5\n",
            "Exponente 27\n"
          ]
        }
      ]
    },
    {
      "cell_type": "code",
      "metadata": {
        "colab": {
          "base_uri": "https://localhost:8080/"
        },
        "id": "Ggvhdph8RtQi",
        "outputId": "2e15646e-5381-4581-ffab-7d277a56e7bc"
      },
      "source": [
        "#  ----- Data Collections -----\n",
        "# -- List\n",
        "my_list = ['Quant', 'Connect', 1,2,3]\n",
        "print(my_list)\n",
        "my_New_List = ['Goodbye', \"World\", 727,5,78]\n",
        "print(my_New_List)"
      ],
      "execution_count": null,
      "outputs": [
        {
          "output_type": "stream",
          "name": "stdout",
          "text": [
            "['Quant', 'Connect', 1, 2, 3]\n",
            "['Goodbye', 'World', 727, 5, 78]\n"
          ]
        }
      ]
    },
    {
      "cell_type": "code",
      "metadata": {
        "colab": {
          "base_uri": "https://localhost:8080/"
        },
        "id": "393EgwJHSoSt",
        "outputId": "c51136b3-5694-412f-c444-b402ae205556"
      },
      "source": [
        "my_list = ['Quant', 'Connect', 1,2,3]\n",
        "print(len(my_list))"
      ],
      "execution_count": null,
      "outputs": [
        {
          "output_type": "stream",
          "name": "stdout",
          "text": [
            "5\n"
          ]
        }
      ]
    },
    {
      "cell_type": "code",
      "metadata": {
        "colab": {
          "base_uri": "https://localhost:8080/"
        },
        "id": "zL_KOowXS3wZ",
        "outputId": "c5b6a2e4-a046-4047-ce3a-83e849880cac"
      },
      "source": [
        "my_New_List = ['Goodbye', \"World\", 727,5,78, \"Cheems \" + 'Ansiedad',6]\n",
        "print(len(my_New_List))\n",
        "print(my_New_List)"
      ],
      "execution_count": null,
      "outputs": [
        {
          "output_type": "stream",
          "name": "stdout",
          "text": [
            "7\n",
            "['Goodbye', 'World', 727, 5, 78, 'Cheems Ansiedad', 6]\n"
          ]
        }
      ]
    },
    {
      "cell_type": "code",
      "metadata": {
        "colab": {
          "base_uri": "https://localhost:8080/"
        },
        "id": "wWttt2SXTqAa",
        "outputId": "f08af463-f61a-495b-a385-64657c1173a9"
      },
      "source": [
        "print(my_list[0])"
      ],
      "execution_count": null,
      "outputs": [
        {
          "output_type": "stream",
          "name": "stdout",
          "text": [
            "Quant\n"
          ]
        }
      ]
    },
    {
      "cell_type": "code",
      "metadata": {
        "colab": {
          "base_uri": "https://localhost:8080/"
        },
        "id": "RE2xXKimTwtD",
        "outputId": "df8d2459-561e-4d1c-8e80-d9ed3c5b3e3e"
      },
      "source": [
        "print(my_list[len(my_list) - 1])"
      ],
      "execution_count": null,
      "outputs": [
        {
          "output_type": "stream",
          "name": "stdout",
          "text": [
            "3\n"
          ]
        }
      ]
    },
    {
      "cell_type": "code",
      "metadata": {
        "colab": {
          "base_uri": "https://localhost:8080/"
        },
        "id": "mVDHSzfyTy5p",
        "outputId": "60762467-e2cb-4d69-b182-a945592f5e65"
      },
      "source": [
        "print(my_New_List[0])"
      ],
      "execution_count": null,
      "outputs": [
        {
          "output_type": "stream",
          "name": "stdout",
          "text": [
            "Goodbye\n"
          ]
        }
      ]
    },
    {
      "cell_type": "code",
      "metadata": {
        "colab": {
          "base_uri": "https://localhost:8080/"
        },
        "id": "-vg7ib9RT2o7",
        "outputId": "4c88b800-337c-4759-baf6-7c3afe3d4fea"
      },
      "source": [
        "print(my_New_List[len(my_New_List) - 1])"
      ],
      "execution_count": null,
      "outputs": [
        {
          "output_type": "stream",
          "name": "stdout",
          "text": [
            "6\n"
          ]
        }
      ]
    },
    {
      "cell_type": "code",
      "metadata": {
        "colab": {
          "base_uri": "https://localhost:8080/"
        },
        "id": "p3xGIDAJUKVB",
        "outputId": "bb76ecc5-f144-4892-9477-31121d59325c"
      },
      "source": [
        "my_list = ['Quant','Connect',1,2,3]\n",
        "my_list[2] = 'go'\n",
        "print(my_list)"
      ],
      "execution_count": null,
      "outputs": [
        {
          "output_type": "stream",
          "name": "stdout",
          "text": [
            "['Quant', 'Connect', 'go', 2, 3]\n"
          ]
        }
      ]
    },
    {
      "cell_type": "code",
      "metadata": {
        "colab": {
          "base_uri": "https://localhost:8080/"
        },
        "id": "EXqmmZOcVV7N",
        "outputId": "bbf2c912-59bb-4b89-abf2-67eba184b595"
      },
      "source": [
        "my_New_List = ['Goodbye', \"World\", 727,5,78, \"Cheems\",6]\n",
        "my_New_List[5] = 'Doge'\n",
        "print(my_New_List)"
      ],
      "execution_count": null,
      "outputs": [
        {
          "output_type": "stream",
          "name": "stdout",
          "text": [
            "['Goodbye', 'World', 727, 5, 78, 'Doge', 6]\n"
          ]
        }
      ]
    },
    {
      "cell_type": "code",
      "metadata": {
        "colab": {
          "base_uri": "https://localhost:8080/"
        },
        "id": "WDU5gR1-VlN2",
        "outputId": "d92a3372-555c-428e-9556-c8d643113709"
      },
      "source": [
        "my_list = ['Quant','Connect',1,2,3]\n",
        "print(my_list[1:3])"
      ],
      "execution_count": null,
      "outputs": [
        {
          "output_type": "stream",
          "name": "stdout",
          "text": [
            "['Connect', 1]\n"
          ]
        }
      ]
    },
    {
      "cell_type": "code",
      "metadata": {
        "colab": {
          "base_uri": "https://localhost:8080/"
        },
        "id": "EA9TfBYKVrbr",
        "outputId": "6fbc717a-854d-4548-da99-07a5a68ea898"
      },
      "source": [
        "my_New_List = ['Goodbye', \"World\", 727,5,78, \"Cheems\",6]\n",
        "print(my_New_List[2:6])"
      ],
      "execution_count": null,
      "outputs": [
        {
          "output_type": "stream",
          "name": "stdout",
          "text": [
            "[727, 5, 78, 'Cheems']\n"
          ]
        }
      ]
    },
    {
      "cell_type": "code",
      "metadata": {
        "colab": {
          "base_uri": "https://localhost:8080/"
        },
        "id": "RbMIHsa9V_z8",
        "outputId": "75679eac-d10d-45d7-b68c-7f82fa817d4b"
      },
      "source": [
        "print(my_list[1:])"
      ],
      "execution_count": null,
      "outputs": [
        {
          "output_type": "stream",
          "name": "stdout",
          "text": [
            "['Connect', 1, 2, 3]\n"
          ]
        }
      ]
    },
    {
      "cell_type": "code",
      "metadata": {
        "colab": {
          "base_uri": "https://localhost:8080/"
        },
        "id": "5czF5CVOWA7l",
        "outputId": "802bddc6-e023-4274-b631-635b2871eb71"
      },
      "source": [
        "print(my_New_List[3:])"
      ],
      "execution_count": null,
      "outputs": [
        {
          "output_type": "stream",
          "name": "stdout",
          "text": [
            "[5, 78, 'Cheems', 6]\n"
          ]
        }
      ]
    },
    {
      "cell_type": "code",
      "metadata": {
        "colab": {
          "base_uri": "https://localhost:8080/"
        },
        "id": "P5TM1IpjWP59",
        "outputId": "be14117b-b00e-4ab2-94f7-b95b3e64220a"
      },
      "source": [
        "# Add and Remove elements from the list\n",
        "my_list = ['Hello', 'Quant']\n",
        "my_list.append('Hello')\n",
        "print(my_list)"
      ],
      "execution_count": null,
      "outputs": [
        {
          "output_type": "stream",
          "name": "stdout",
          "text": [
            "['Hello', 'Quant', 'Hello']\n"
          ]
        }
      ]
    },
    {
      "cell_type": "code",
      "metadata": {
        "colab": {
          "base_uri": "https://localhost:8080/"
        },
        "id": "EREuR1qcWRgK",
        "outputId": "35b01c15-a3e0-4178-ff14-ade6579871a9"
      },
      "source": [
        "my_list.remove('Hello')\n",
        "print(my_list)"
      ],
      "execution_count": null,
      "outputs": [
        {
          "output_type": "stream",
          "name": "stdout",
          "text": [
            "['Quant', 'Hello']\n"
          ]
        }
      ]
    },
    {
      "cell_type": "code",
      "metadata": {
        "colab": {
          "base_uri": "https://localhost:8080/"
        },
        "id": "5nQx3Fj-Wxsk",
        "outputId": "30babdc5-9a5b-4182-e1ad-248e820de652"
      },
      "source": [
        "my_New_List = ['Goodbye', \"World\", 727,5,78, \"Cheems\",6]\n",
        "my_New_List.append('Sayonara')\n",
        "print(my_New_List)"
      ],
      "execution_count": null,
      "outputs": [
        {
          "output_type": "stream",
          "name": "stdout",
          "text": [
            "['Goodbye', 'World', 727, 5, 78, 'Cheems', 6, 'Sayonara']\n"
          ]
        }
      ]
    },
    {
      "cell_type": "code",
      "metadata": {
        "colab": {
          "base_uri": "https://localhost:8080/"
        },
        "id": "KcI8hdhOXH0r",
        "outputId": "080f5bac-2ea7-4b05-e964-2f8c68f55d50"
      },
      "source": [
        "my_New_List.remove('Sayonara')\n",
        "print(my_New_List)"
      ],
      "execution_count": null,
      "outputs": [
        {
          "output_type": "stream",
          "name": "stdout",
          "text": [
            "['Goodbye', 'World', 727, 5, 78, 'Cheems', 6]\n"
          ]
        }
      ]
    },
    {
      "cell_type": "code",
      "metadata": {
        "id": "wgtdEouWXj3F"
      },
      "source": [
        "my_tuple = ('Welcome','to','QuantConnect')"
      ],
      "execution_count": null,
      "outputs": []
    },
    {
      "cell_type": "code",
      "metadata": {
        "id": "UkPQBIS7XvDy"
      },
      "source": [
        "my_New_Tuple = ('Goodbye',\"to\",'World')"
      ],
      "execution_count": null,
      "outputs": []
    },
    {
      "cell_type": "code",
      "metadata": {
        "colab": {
          "base_uri": "https://localhost:8080/"
        },
        "id": "aKm1C_QgXnbJ",
        "outputId": "5f56fba9-7c5a-44b6-dab6-db4d58032179"
      },
      "source": [
        "my_tuple = ('Welcome','to','QuantConnect')\n",
        "print(my_tuple[1:])"
      ],
      "execution_count": null,
      "outputs": [
        {
          "output_type": "stream",
          "name": "stdout",
          "text": [
            "('to', 'QuantConnect')\n"
          ]
        }
      ]
    },
    {
      "cell_type": "code",
      "metadata": {
        "colab": {
          "base_uri": "https://localhost:8080/"
        },
        "id": "xDV-YtCHX-9J",
        "outputId": "a11f4017-b20c-441e-ab7d-9516e64fcde0"
      },
      "source": [
        "my_New_Tuple = ('Goodbye',\"to\",'World')\n",
        "print(my_New_Tuple[1:])"
      ],
      "execution_count": null,
      "outputs": [
        {
          "output_type": "stream",
          "name": "stdout",
          "text": [
            "('to', 'World')\n"
          ]
        }
      ]
    },
    {
      "cell_type": "code",
      "metadata": {
        "colab": {
          "base_uri": "https://localhost:8080/"
        },
        "id": "JBm-xs5eYQQ1",
        "outputId": "dc1f7ff9-f9a1-4dcd-b3c2-aad869490c5f"
      },
      "source": [
        "# -- Set \n",
        "stock_list = ['AAPL','GOOG','IBM','AAPL','IBM','FB','F','GOOG']\n",
        "stock_set = set(stock_list)\n",
        "print(stock_set)"
      ],
      "execution_count": null,
      "outputs": [
        {
          "output_type": "stream",
          "name": "stdout",
          "text": [
            "{'IBM', 'GOOG', 'AAPL', 'F', 'FB'}\n"
          ]
        }
      ]
    },
    {
      "cell_type": "code",
      "metadata": {
        "colab": {
          "base_uri": "https://localhost:8080/"
        },
        "id": "oYA0eaX-YtR5",
        "outputId": "124399b1-0af3-4d77-f41a-548f36e04638"
      },
      "source": [
        "stock_New_list = ['ASD','gg','DELL','GG','OSU','XD','F','GLWP','ASD']\n",
        "stock_New_set = set(stock_New_list)\n",
        "print(stock_New_set)"
      ],
      "execution_count": null,
      "outputs": [
        {
          "output_type": "stream",
          "name": "stdout",
          "text": [
            "{'GG', 'gg', 'OSU', 'XD', 'ASD', 'GLWP', 'F', 'DELL'}\n"
          ]
        }
      ]
    },
    {
      "cell_type": "code",
      "metadata": {
        "colab": {
          "base_uri": "https://localhost:8080/"
        },
        "id": "5uvUMqERaiKi",
        "outputId": "977a6f8e-5a07-4f97-85d6-4f0f51815817"
      },
      "source": [
        "my_dic = {'AAPL': 'Apple', 'FB': 'FaceBook', 'GOOG': 'Alphabet'}\n",
        "print(my_dic['GOOG'])"
      ],
      "execution_count": null,
      "outputs": [
        {
          "output_type": "stream",
          "name": "stdout",
          "text": [
            "Alphabet\n"
          ]
        }
      ]
    },
    {
      "cell_type": "code",
      "metadata": {
        "colab": {
          "base_uri": "https://localhost:8080/"
        },
        "id": "fzVYw5PKameE",
        "outputId": "a56b4aa1-0f88-4a27-a6ff-abd27e5ea44e"
      },
      "source": [
        "my_New_dic = {'CHEEMS': 'Ansiedad', 'TW': 'Twitch', 727: 'Circle','WIN':'Linus'}\n",
        "print(my_New_dic[727])\n",
        "print(my_New_dic['TW'])"
      ],
      "execution_count": null,
      "outputs": [
        {
          "output_type": "stream",
          "name": "stdout",
          "text": [
            "Circle\n",
            "Twitch\n"
          ]
        }
      ]
    },
    {
      "cell_type": "code",
      "metadata": {
        "colab": {
          "base_uri": "https://localhost:8080/"
        },
        "id": "xrPIrN3SbU3b",
        "outputId": "b74386ef-4133-4126-d73e-5e2be978cde0"
      },
      "source": [
        "my_dic['GOOG'] = 'Alphabet Company'\n",
        "print(my_dic['GOOG'])"
      ],
      "execution_count": null,
      "outputs": [
        {
          "output_type": "stream",
          "name": "stdout",
          "text": [
            "Alphabet Company\n"
          ]
        }
      ]
    },
    {
      "cell_type": "code",
      "metadata": {
        "colab": {
          "base_uri": "https://localhost:8080/"
        },
        "id": "CzbdfyTlbWwW",
        "outputId": "50968fc9-d4ba-460b-fb0b-e94cb50bae76"
      },
      "source": [
        "my_New_dic['CHEEMS'] = 'Doge'\n",
        "print(my_New_dic['CHEEMS'])"
      ],
      "execution_count": null,
      "outputs": [
        {
          "output_type": "stream",
          "name": "stdout",
          "text": [
            "Doge\n"
          ]
        }
      ]
    },
    {
      "cell_type": "code",
      "metadata": {
        "colab": {
          "base_uri": "https://localhost:8080/"
        },
        "id": "CXb1dzE6bxyf",
        "outputId": "fc332c7b-7662-4a9b-a1d5-ecf833c0796a"
      },
      "source": [
        "print(my_dic.keys())\n",
        "print(my_New_dic.keys())"
      ],
      "execution_count": null,
      "outputs": [
        {
          "output_type": "stream",
          "name": "stdout",
          "text": [
            "dict_keys(['AAPL', 'FB', 'GOOG'])\n",
            "dict_keys(['CHEEMS', 'TW', 727, 'WIN'])\n"
          ]
        }
      ]
    },
    {
      "cell_type": "code",
      "metadata": {
        "colab": {
          "base_uri": "https://localhost:8080/"
        },
        "id": "JJ4MODdEcMfs",
        "outputId": "b88a9fd1-126e-4af3-d8b0-2e28643518c5"
      },
      "source": [
        "#  ----- Common String Operations -----\n",
        "my_str = 'Welcome to QuantConnect'\n",
        "print(my_str[8:])"
      ],
      "execution_count": null,
      "outputs": [
        {
          "output_type": "stream",
          "name": "stdout",
          "text": [
            "to QuantConnect\n"
          ]
        }
      ]
    },
    {
      "cell_type": "code",
      "metadata": {
        "colab": {
          "base_uri": "https://localhost:8080/"
        },
        "id": "hWfWmr5Ye3ds",
        "outputId": "cb69dd8b-83de-4de8-b6a5-42b990d6fb1a"
      },
      "source": [
        "print(\"Counting the number of e's in this sentence\".count('e'))"
      ],
      "execution_count": null,
      "outputs": [
        {
          "output_type": "stream",
          "name": "stdout",
          "text": [
            "6\n"
          ]
        }
      ]
    },
    {
      "cell_type": "code",
      "metadata": {
        "colab": {
          "base_uri": "https://localhost:8080/"
        },
        "id": "VOgB1fH_hZWw",
        "outputId": "678b5ecc-5099-4a7b-a2c3-884377cf3905"
      },
      "source": [
        "print(\"Contando el numero de e's en la oración\".count('e'))"
      ],
      "execution_count": null,
      "outputs": [
        {
          "output_type": "stream",
          "name": "stdout",
          "text": [
            "5\n"
          ]
        }
      ]
    },
    {
      "cell_type": "code",
      "metadata": {
        "colab": {
          "base_uri": "https://localhost:8080/"
        },
        "id": "6CD1P529e4r9",
        "outputId": "a60de1b8-8c8a-4857-805c-ab7236429ca1"
      },
      "source": [
        "print('The first time e appears in this sentence'.find('e'))"
      ],
      "execution_count": null,
      "outputs": [
        {
          "output_type": "stream",
          "name": "stdout",
          "text": [
            "2\n"
          ]
        }
      ]
    },
    {
      "cell_type": "code",
      "metadata": {
        "colab": {
          "base_uri": "https://localhost:8080/"
        },
        "id": "PgpcP-GIhkeW",
        "outputId": "33217555-c57a-4e22-9e64-8524c66b8f97"
      },
      "source": [
        "print('La primerva vez que aparece la e en la oración'.find('e')) "
      ],
      "execution_count": null,
      "outputs": [
        {
          "output_type": "stream",
          "name": "stdout",
          "text": [
            "7\n"
          ]
        }
      ]
    },
    {
      "cell_type": "code",
      "metadata": {
        "colab": {
          "base_uri": "https://localhost:8080/"
        },
        "id": "cpDuu4Aye6ar",
        "outputId": "c1fbecf4-b439-44a7-bd5a-e283cd45c774"
      },
      "source": [
        "print('all the a in this sentence now becomes e'.replace('a','e'))"
      ],
      "execution_count": null,
      "outputs": [
        {
          "output_type": "stream",
          "name": "stdout",
          "text": [
            "ell the e in this sentence now becomes e\n"
          ]
        }
      ]
    },
    {
      "cell_type": "code",
      "metadata": {
        "colab": {
          "base_uri": "https://localhost:8080/"
        },
        "id": "NS2XkGMth0Al",
        "outputId": "ae2ea95d-ae8d-4e87-9696-2fe312b6a060"
      },
      "source": [
        "print('Todas las a en la oración ahora se convierten en e'.replace('a','e'))"
      ],
      "execution_count": null,
      "outputs": [
        {
          "output_type": "stream",
          "name": "stdout",
          "text": [
            "Todes les e en le oreción ehore se convierten en e\n"
          ]
        }
      ]
    },
    {
      "cell_type": "code",
      "metadata": {
        "colab": {
          "base_uri": "https://localhost:8080/"
        },
        "id": "PpPX08tIiVRe",
        "outputId": "befb0148-abbf-464a-c1a3-411a7ac34177"
      },
      "source": [
        "Time = '2016-04-01 09:43:00'\n",
        "splited_list = Time.split(' ')\n",
        "date = splited_list[0]\n",
        "time = splited_list[1]\n",
        "print(date, time)"
      ],
      "execution_count": null,
      "outputs": [
        {
          "output_type": "stream",
          "name": "stdout",
          "text": [
            "2016-04-01 09:43:00\n"
          ]
        }
      ]
    },
    {
      "cell_type": "code",
      "metadata": {
        "colab": {
          "base_uri": "https://localhost:8080/"
        },
        "id": "xefJJzmVifFg",
        "outputId": "d4a69f23-2c40-414d-b6e3-07cb6df5a3ef"
      },
      "source": [
        "hour = time.split(':')[0]\n",
        "print(hour)"
      ],
      "execution_count": null,
      "outputs": [
        {
          "output_type": "stream",
          "name": "stdout",
          "text": [
            "09\n"
          ]
        }
      ]
    },
    {
      "cell_type": "code",
      "metadata": {
        "colab": {
          "base_uri": "https://localhost:8080/"
        },
        "id": "ARR41kDUikXp",
        "outputId": "3fd3a639-c2c7-442d-ea63-f2101939eb32"
      },
      "source": [
        "new_Time = '15/10/2021 07:27:00'\n",
        "splited_list = new_Time.split(' ')\n",
        "date = splited_list[0]\n",
        "time = splited_list[1]\n",
        "print(date, time)"
      ],
      "execution_count": null,
      "outputs": [
        {
          "output_type": "stream",
          "name": "stdout",
          "text": [
            "15/10/2021 07:27:00\n"
          ]
        }
      ]
    },
    {
      "cell_type": "code",
      "metadata": {
        "colab": {
          "base_uri": "https://localhost:8080/"
        },
        "id": "x1jgkArHjDxg",
        "outputId": "9bb9dc3a-8986-44f1-ca09-2608a4a3bb5b"
      },
      "source": [
        "hour = time.split(':')[0]\n",
        "print(hour)"
      ],
      "execution_count": null,
      "outputs": [
        {
          "output_type": "stream",
          "name": "stdout",
          "text": [
            "07\n"
          ]
        }
      ]
    },
    {
      "cell_type": "code",
      "metadata": {
        "colab": {
          "base_uri": "https://localhost:8080/"
        },
        "id": "zJSV3dHqjMRV",
        "outputId": "ecab41a2-8c7c-4462-b13c-6b7aace17a65"
      },
      "source": [
        "my_time = 'Hour: {}, Minute: {}'.format(9, 43)\n",
        "print(my_time)"
      ],
      "execution_count": null,
      "outputs": [
        {
          "output_type": "stream",
          "name": "stdout",
          "text": [
            "Hour: 9, Minute: 43\n"
          ]
        }
      ]
    },
    {
      "cell_type": "code",
      "metadata": {
        "colab": {
          "base_uri": "https://localhost:8080/"
        },
        "id": "l-NyUbXojU8D",
        "outputId": "1c50538e-f201-4d85-bac6-fb8ba12c62f1"
      },
      "source": [
        "my_New_time = 'Hour: {}, Minute: {}'.format(7, 27)\n",
        "print(my_New_time)"
      ],
      "execution_count": null,
      "outputs": [
        {
          "output_type": "stream",
          "name": "stdout",
          "text": [
            "Hour: 7, Minute: 27\n"
          ]
        }
      ]
    },
    {
      "cell_type": "code",
      "metadata": {
        "colab": {
          "base_uri": "https://localhost:8080/"
        },
        "id": "b_gdUs9JjftB",
        "outputId": "67262f27-63e6-42da-c5e8-5c21ed85a95b"
      },
      "source": [
        "print('pi is %f' % 3.14)"
      ],
      "execution_count": null,
      "outputs": [
        {
          "output_type": "stream",
          "name": "stdout",
          "text": [
            "pi is 3.140000\n"
          ]
        }
      ]
    },
    {
      "cell_type": "code",
      "metadata": {
        "colab": {
          "base_uri": "https://localhost:8080/"
        },
        "id": "M9z1AX-PkFy6",
        "outputId": "4df8af2a-8a9d-491f-c4d3-95005935819d"
      },
      "source": [
        "print(\"e is %f\" % 2.71)"
      ],
      "execution_count": null,
      "outputs": [
        {
          "output_type": "stream",
          "name": "stdout",
          "text": [
            "e is 2.710000\n"
          ]
        }
      ]
    },
    {
      "cell_type": "code",
      "metadata": {
        "colab": {
          "base_uri": "https://localhost:8080/"
        },
        "id": "F8noKarmjlZo",
        "outputId": "9159d487-2b0b-4172-de2e-494eaf0b6464"
      },
      "source": [
        "print('%s to %s' % ('Welcome', 'QuantConnect'))"
      ],
      "execution_count": null,
      "outputs": [
        {
          "output_type": "stream",
          "name": "stdout",
          "text": [
            "Welcome to QuantConnect\n"
          ]
        }
      ]
    },
    {
      "cell_type": "code",
      "metadata": {
        "colab": {
          "base_uri": "https://localhost:8080/"
        },
        "id": "NES6Pkg-kYs4",
        "outputId": "7ab87f2b-a49e-421c-84f8-0e6f867e50eb"
      },
      "source": [
        "print('%s to %s' % ('Goodbye', 'World'))"
      ],
      "execution_count": null,
      "outputs": [
        {
          "output_type": "stream",
          "name": "stdout",
          "text": [
            "Goodbye to World\n"
          ]
        }
      ]
    },
    {
      "cell_type": "markdown",
      "metadata": {
        "id": "rx9t8VOiyiYr"
      },
      "source": [
        "# Logical Operations and Loops"
      ]
    },
    {
      "cell_type": "code",
      "metadata": {
        "colab": {
          "base_uri": "https://localhost:8080/"
        },
        "id": "lKjGEsMVyqUD",
        "outputId": "e6b132e0-b17d-461a-b233-04be4158cbad"
      },
      "source": [
        "# -- Logical Operations --\n",
        "print (1 == 0)    # 1 equals 0\n",
        "print (1 == 1)    # 1 equals 1\n",
        "print (1 != 0)    # 1 is not equal to 0\n",
        "print (5 >= 5)    # 5 is greater than or equal to 5\n",
        "print (5 >= 6)    # 5 is greater than or equal to 6"
      ],
      "execution_count": null,
      "outputs": [
        {
          "output_type": "stream",
          "name": "stdout",
          "text": [
            "False\n",
            "True\n",
            "True\n",
            "True\n",
            "False\n"
          ]
        }
      ]
    },
    {
      "cell_type": "code",
      "metadata": {
        "colab": {
          "base_uri": "https://localhost:8080/"
        },
        "id": "ugCuzhir2ejB",
        "outputId": "f984a1ae-8c00-4a81-e8f3-808fc488c2bd"
      },
      "source": [
        "print (727 == 272)    # 727 equals 272\n",
        "print (727 == 727)    # 727 equals 727\n",
        "print (6 != 7)        # 6 is not equal to 7\n",
        "print (23 >= 23)      # 23 is greater than or equal to 23\n",
        "print (23 > 23)      # 23 is greater than 23\n",
        "print (56 >= 99)      # 56 is greater than or equal to 99"
      ],
      "execution_count": null,
      "outputs": [
        {
          "output_type": "stream",
          "name": "stdout",
          "text": [
            "False\n",
            "True\n",
            "True\n",
            "True\n",
            "False\n",
            "False\n"
          ]
        }
      ]
    },
    {
      "cell_type": "code",
      "metadata": {
        "colab": {
          "base_uri": "https://localhost:8080/"
        },
        "id": "hvKJv6yI3ZxJ",
        "outputId": "ed5535e4-f3e5-4dc8-f057-38f135acee7e"
      },
      "source": [
        "print (2 > 1 and 3 > 2)\n",
        "print (2 > 1 and 3 < 2)\n",
        "print (2 > 1 or  3 < 2)\n",
        "print (2 < 1 and 3 < 2)"
      ],
      "execution_count": null,
      "outputs": [
        {
          "output_type": "stream",
          "name": "stdout",
          "text": [
            "True\n",
            "False\n",
            "True\n",
            "False\n"
          ]
        }
      ]
    },
    {
      "cell_type": "code",
      "metadata": {
        "colab": {
          "base_uri": "https://localhost:8080/"
        },
        "id": "xrcSodex3mJf",
        "outputId": "4f5570b4-b81e-4d01-8d07-40109432fdce"
      },
      "source": [
        "print ('a' == 'a' and 3 > 2)\n",
        "print (23 > 10 and -3 < 2)\n",
        "print (2 < 1 or  '3' != 3)\n",
        "print (12 < 8 and 72 < 7)"
      ],
      "execution_count": null,
      "outputs": [
        {
          "output_type": "stream",
          "name": "stdout",
          "text": [
            "True\n",
            "True\n",
            "True\n",
            "False\n"
          ]
        }
      ]
    },
    {
      "cell_type": "code",
      "metadata": {
        "colab": {
          "base_uri": "https://localhost:8080/"
        },
        "id": "SiwpAfmY4Xxh",
        "outputId": "49d78b42-c327-4285-903a-fab492b640c4"
      },
      "source": [
        "print (3 > 2 or 1 < 3) and (1!=3 and 4>3) and not ( 3 < 2 or 1 < 3 and (1!=3 and 4>3))\n",
        "print (3 < 2 or 1 > 3) and (1!=3 and 4>3) and not ( 3 < 2 or 1 < 3 and (1!=3 and 4>3))"
      ],
      "execution_count": null,
      "outputs": [
        {
          "output_type": "stream",
          "name": "stdout",
          "text": [
            "True\n",
            "False\n"
          ]
        }
      ]
    },
    {
      "cell_type": "code",
      "metadata": {
        "colab": {
          "base_uri": "https://localhost:8080/"
        },
        "id": "z4N9TnjJRPRd",
        "outputId": "023c6f10-53b6-4185-83aa-3e49fef0ce69"
      },
      "source": [
        "print (727 > 700 or -23 < 0) and ('a'!='a' and 4>3) and not ( 5 < -2 or -1 < 3 and (1!=3 and 4>3))\n",
        "print (34 < 12 or -45 > 6) and (1!=3 and 4>3) and not ( 87 < 4 or -727 < 789 and (my_New_int!=3 and 4>3))"
      ],
      "execution_count": null,
      "outputs": [
        {
          "output_type": "stream",
          "name": "stdout",
          "text": [
            "True\n",
            "False\n"
          ]
        }
      ]
    },
    {
      "cell_type": "code",
      "metadata": {
        "colab": {
          "base_uri": "https://localhost:8080/"
        },
        "id": "SbE8Adh3T66B",
        "outputId": "ebce9670-4cde-4e16-af52-f6039d054171"
      },
      "source": [
        "i = 0\n",
        "if i == 0: print ('i == 0 is True')"
      ],
      "execution_count": null,
      "outputs": [
        {
          "output_type": "stream",
          "name": "stdout",
          "text": [
            "i == 0 is True\n"
          ]
        }
      ]
    },
    {
      "cell_type": "code",
      "metadata": {
        "colab": {
          "base_uri": "https://localhost:8080/"
        },
        "id": "q9BQfJaHcoJF",
        "outputId": "b33efdbd-5c07-43e7-855f-b4f2585f791b"
      },
      "source": [
        "j = 1\n",
        "if j == 0: print('j == 0 is True')\n",
        "else: print('j == 0 is False') "
      ],
      "execution_count": null,
      "outputs": [
        {
          "output_type": "stream",
          "name": "stdout",
          "text": [
            "j == 0 is False\n"
          ]
        }
      ]
    },
    {
      "cell_type": "code",
      "metadata": {
        "colab": {
          "base_uri": "https://localhost:8080/"
        },
        "id": "hamugFTqmUtY",
        "outputId": "e8a35293-4adc-4b67-9113-331d921d1e06"
      },
      "source": [
        "p = 1 > 0\n",
        "q = 2 > 3\n",
        "if p and q:\n",
        "    print ('p and q is true')\n",
        "elif p and not q:\n",
        "    print ('q is false')\n",
        "elif q and not p:\n",
        "    print ('p is false')\n",
        "else:\n",
        "    print ('None of p and q is true')"
      ],
      "execution_count": null,
      "outputs": [
        {
          "output_type": "stream",
          "name": "stdout",
          "text": [
            "q is false\n"
          ]
        }
      ]
    },
    {
      "cell_type": "code",
      "metadata": {
        "colab": {
          "base_uri": "https://localhost:8080/"
        },
        "id": "A1EWc7A97swx",
        "outputId": "97708828-59d8-4592-aff4-f2c9894ffd43"
      },
      "source": [
        "p = \"a\" == 'a'\n",
        "q = 2 > 3\n",
        "if p and q:\n",
        "    print ('p and q is true')\n",
        "elif p and not q:\n",
        "    print ('q is false')\n",
        "elif q and not p:\n",
        "    print ('p is false')\n",
        "else:\n",
        "    print ('None of p and q is true')"
      ],
      "execution_count": null,
      "outputs": [
        {
          "output_type": "stream",
          "name": "stdout",
          "text": [
            "q is false\n"
          ]
        }
      ]
    },
    {
      "cell_type": "code",
      "metadata": {
        "colab": {
          "base_uri": "https://localhost:8080/"
        },
        "id": "cMH-vN8v763-",
        "outputId": "76d7d8fe-6353-4314-d06b-2484f93dce16"
      },
      "source": [
        "# -- While -- \n",
        "i = 0\n",
        "while i < 5:\n",
        "    print (i)\n",
        "    i += 1"
      ],
      "execution_count": null,
      "outputs": [
        {
          "output_type": "stream",
          "name": "stdout",
          "text": [
            "0\n",
            "1\n",
            "2\n",
            "3\n",
            "4\n"
          ]
        }
      ]
    },
    {
      "cell_type": "code",
      "metadata": {
        "colab": {
          "base_uri": "https://localhost:8080/"
        },
        "id": "-BA-If3s8MLY",
        "outputId": "c9edd3ee-8a90-4978-bd8a-76e4f2e239d5"
      },
      "source": [
        "j = 0\n",
        "while j < 5:\n",
        "    print (\"Goodbye World: \" + str(j))\n",
        "    j += 1"
      ],
      "execution_count": null,
      "outputs": [
        {
          "output_type": "stream",
          "name": "stdout",
          "text": [
            "Goodbye World: 0\n",
            "Goodbye World: 1\n",
            "Goodbye World: 2\n",
            "Goodbye World: 3\n",
            "Goodbye World: 4\n"
          ]
        }
      ]
    },
    {
      "cell_type": "code",
      "metadata": {
        "colab": {
          "base_uri": "https://localhost:8080/"
        },
        "id": "_eF2fiWT9HM7",
        "outputId": "56d68edf-355e-479c-fb4b-4effafb09de0"
      },
      "source": [
        "# -- For Loop -- \n",
        "for x in [1,2,3,4,5]: print (x)"
      ],
      "execution_count": null,
      "outputs": [
        {
          "output_type": "stream",
          "name": "stdout",
          "text": [
            "1\n",
            "2\n",
            "3\n",
            "4\n",
            "5\n"
          ]
        }
      ]
    },
    {
      "cell_type": "code",
      "metadata": {
        "colab": {
          "base_uri": "https://localhost:8080/"
        },
        "id": "Qo_QJgm-9QOi",
        "outputId": "134d6dbd-27d4-4440-8078-81a89b6f49e5"
      },
      "source": [
        "for y in [20,21,22,23,24]: print (y)"
      ],
      "execution_count": null,
      "outputs": [
        {
          "output_type": "stream",
          "name": "stdout",
          "text": [
            "20\n",
            "21\n",
            "22\n",
            "23\n",
            "24\n"
          ]
        }
      ]
    },
    {
      "cell_type": "code",
      "metadata": {
        "colab": {
          "base_uri": "https://localhost:8080/"
        },
        "id": "JUOjfPA59i6N",
        "outputId": "080309b6-7288-4af9-9918-cdebe876a1a3"
      },
      "source": [
        "stocks = ['AAPL','GOOG','IBM','FB','F','V', 'G', 'GE']\n",
        "selected = ['AAPL','IBM']\n",
        "new_list = []\n",
        "for stock in stocks:\n",
        "    if stock not in selected:\n",
        "        new_list.append(stock)\n",
        "print (new_list)"
      ],
      "execution_count": null,
      "outputs": [
        {
          "output_type": "stream",
          "name": "stdout",
          "text": [
            "['GOOG', 'FB', 'F', 'V', 'G', 'GE']\n"
          ]
        }
      ]
    },
    {
      "cell_type": "code",
      "metadata": {
        "colab": {
          "base_uri": "https://localhost:8080/"
        },
        "id": "Zl_ehe9M_94j",
        "outputId": "7d40be8c-6efe-451f-ac1b-cfb62c516e50"
      },
      "source": [
        "stocks = ['DOGE','COIN','DELL','IT','TW','VGA', 'DVI', 'GGWP','TWITCH']\n",
        "selected = ['TW','TWITCH']\n",
        "new_list = []\n",
        "for stock in stocks:\n",
        "    if stock not in selected:\n",
        "        new_list.append(stock)\n",
        "print (new_list)"
      ],
      "execution_count": null,
      "outputs": [
        {
          "output_type": "stream",
          "name": "stdout",
          "text": [
            "['DOGE', 'COIN', 'DELL', 'IT', 'VGA', 'DVI', 'GGWP']\n"
          ]
        }
      ]
    },
    {
      "cell_type": "code",
      "metadata": {
        "colab": {
          "base_uri": "https://localhost:8080/"
        },
        "id": "LyI7bXgrAve1",
        "outputId": "af19b359-2f70-42c2-a782-8f1d31f713a9"
      },
      "source": [
        "# -- Breaks and Continue -- \n",
        "stocks = ['AAPL','GOOG','IBM','FB','F','V', 'G', 'GE']\n",
        "for stock in stocks:\n",
        "    print (stock)\n",
        "    if stock == 'FB': break"
      ],
      "execution_count": null,
      "outputs": [
        {
          "output_type": "stream",
          "name": "stdout",
          "text": [
            "AAPL\n",
            "GOOG\n",
            "IBM\n",
            "FB\n"
          ]
        }
      ]
    },
    {
      "cell_type": "code",
      "metadata": {
        "colab": {
          "base_uri": "https://localhost:8080/"
        },
        "id": "SKWstwHvAyh1",
        "outputId": "7c346c32-1aed-4bc3-f1c1-c8185bc3f451"
      },
      "source": [
        "stocks = ['DOGE','COIN','DELL','IT','TW','VGA', 'DVI', 'GGWP','TWITCH']\n",
        "for stock in stocks:\n",
        "    print (stock)\n",
        "    if stock == 'GGWP': break"
      ],
      "execution_count": null,
      "outputs": [
        {
          "output_type": "stream",
          "name": "stdout",
          "text": [
            "DOGE\n",
            "COIN\n",
            "DELL\n",
            "IT\n",
            "TW\n",
            "VGA\n",
            "DVI\n",
            "GGWP\n"
          ]
        }
      ]
    },
    {
      "cell_type": "code",
      "metadata": {
        "colab": {
          "base_uri": "https://localhost:8080/"
        },
        "id": "FibLCJnNA-yT",
        "outputId": "a24c9612-fe7d-47d0-b74b-0e263fbf2e59"
      },
      "source": [
        "stocks = ['AAPL','GOOG','IBM','FB','F','V', 'G', 'GE']\n",
        "for stock in stocks:\n",
        "    if stock == 'FB': continue\n",
        "    print (stock)"
      ],
      "execution_count": null,
      "outputs": [
        {
          "output_type": "stream",
          "name": "stdout",
          "text": [
            "AAPL\n",
            "GOOG\n",
            "IBM\n",
            "F\n",
            "V\n",
            "G\n",
            "GE\n"
          ]
        }
      ]
    },
    {
      "cell_type": "code",
      "metadata": {
        "id": "i4GiVj77BTQn",
        "colab": {
          "base_uri": "https://localhost:8080/"
        },
        "outputId": "b0aff68a-1681-49dd-b378-8268851738dc"
      },
      "source": [
        "stocks = ['DOGE','COIN','DELL','IT','TW','VGA', 'DVI', 'GGWP','TWITCH']\n",
        "for stock in stocks:\n",
        "    if stock == 'IT': continue\n",
        "    print (stock)"
      ],
      "execution_count": null,
      "outputs": [
        {
          "output_type": "stream",
          "name": "stdout",
          "text": [
            "DOGE\n",
            "COIN\n",
            "DELL\n",
            "TW\n",
            "VGA\n",
            "DVI\n",
            "GGWP\n",
            "TWITCH\n"
          ]
        }
      ]
    },
    {
      "cell_type": "code",
      "metadata": {
        "colab": {
          "base_uri": "https://localhost:8080/"
        },
        "id": "7RHLOn7I38uA",
        "outputId": "3aa656e0-0ef3-4487-fad1-0c82896c538b"
      },
      "source": [
        "# -- List Comprehension --\n",
        "squares = []\n",
        "for i in [1,2,3,4,5]:\n",
        "    squares.append(i**2)\n",
        "print (squares)"
      ],
      "execution_count": 2,
      "outputs": [
        {
          "output_type": "stream",
          "name": "stdout",
          "text": [
            "[1, 4, 9, 16, 25]\n"
          ]
        }
      ]
    },
    {
      "cell_type": "code",
      "metadata": {
        "colab": {
          "base_uri": "https://localhost:8080/"
        },
        "id": "qJsKRJDz4Vut",
        "outputId": "1408b94f-8b8d-4a3f-c8c8-b67c49148759"
      },
      "source": [
        "cubes = []\n",
        "for j in [1,2,3,4,5,6]:\n",
        "    cubes.append(j**3)\n",
        "print (cubes)"
      ],
      "execution_count": 7,
      "outputs": [
        {
          "output_type": "stream",
          "name": "stdout",
          "text": [
            "[1, 8, 27, 64, 125, 216]\n"
          ]
        }
      ]
    },
    {
      "cell_type": "code",
      "metadata": {
        "colab": {
          "base_uri": "https://localhost:8080/"
        },
        "id": "vmqdQHts4fBD",
        "outputId": "24e1d6f2-a4b0-4583-c626-6c8f2e97bf0b"
      },
      "source": [
        "foo = [1,2,3,4,5]\n",
        "squares = [x**2 for x in foo]\n",
        "print (squares)"
      ],
      "execution_count": 5,
      "outputs": [
        {
          "output_type": "stream",
          "name": "stdout",
          "text": [
            "[1, 4, 9, 16, 25]\n"
          ]
        }
      ]
    },
    {
      "cell_type": "code",
      "metadata": {
        "colab": {
          "base_uri": "https://localhost:8080/"
        },
        "id": "qVwSNa0K4kgX",
        "outputId": "875fbfc5-c146-40af-ffbd-35b94773f183"
      },
      "source": [
        "numbers = [1,2,3,4,5,6,7]\n",
        "cubes = [x**3 for x in numbers]\n",
        "print (cubes)"
      ],
      "execution_count": 9,
      "outputs": [
        {
          "output_type": "stream",
          "name": "stdout",
          "text": [
            "[1, 8, 27, 64, 125, 216, 343]\n"
          ]
        }
      ]
    },
    {
      "cell_type": "code",
      "metadata": {
        "colab": {
          "base_uri": "https://localhost:8080/"
        },
        "id": "vCmvHsbO5AZP",
        "outputId": "d59da62a-d0a7-4ade-c079-10a8f20db107"
      },
      "source": [
        "stocks = ['AAPL','GOOG','IBM','FB','F','V', 'G', 'GE']\n",
        "selected = ['AAPL','IBM']\n",
        "new_list = [x for x in stocks if x not in selected]\n",
        "print (new_list)"
      ],
      "execution_count": 11,
      "outputs": [
        {
          "output_type": "stream",
          "name": "stdout",
          "text": [
            "['GOOG', 'FB', 'F', 'V', 'G', 'GE']\n"
          ]
        }
      ]
    },
    {
      "cell_type": "code",
      "metadata": {
        "colab": {
          "base_uri": "https://localhost:8080/"
        },
        "id": "ljdXY_Wi5IF-",
        "outputId": "bef82018-afb9-4b53-fc0e-48314278fbf2"
      },
      "source": [
        "stocks = ['DOGE','COIN','DELL','IT','TW','VGA', 'DVI', 'GGWP','TWITCH']\n",
        "selected = ['TW','TWITCH']\n",
        "new_list = [x for x in stocks if x not in selected]\n",
        "print (new_list)"
      ],
      "execution_count": 12,
      "outputs": [
        {
          "output_type": "stream",
          "name": "stdout",
          "text": [
            "['DOGE', 'COIN', 'DELL', 'IT', 'VGA', 'DVI', 'GGWP']\n"
          ]
        }
      ]
    },
    {
      "cell_type": "code",
      "metadata": {
        "colab": {
          "base_uri": "https://localhost:8080/"
        },
        "id": "LCWVIl-25TuU",
        "outputId": "b13a1ef5-5abd-4b77-bd78-0d8e0d7ad45e"
      },
      "source": [
        "print ([(x, y) for x in [1,2,3] for y in [3,1,4] if x != y])\n",
        "print ([str(x) + ' vs ' + str(y) for x in ['AAPL','GOOG','IBM','FB']\n",
        "                                for y in ['F','V','G','GE'] if x != y])"
      ],
      "execution_count": 16,
      "outputs": [
        {
          "output_type": "stream",
          "name": "stdout",
          "text": [
            "[(1, 3), (1, 4), (2, 3), (2, 1), (2, 4), (3, 1), (3, 4)]\n",
            "['AAPL vs F', 'AAPL vs V', 'AAPL vs G', 'AAPL vs GE', 'GOOG vs F', 'GOOG vs V', 'GOOG vs G', 'GOOG vs GE', 'IBM vs F', 'IBM vs V', 'IBM vs G', 'IBM vs GE', 'FB vs F', 'FB vs V', 'FB vs G', 'FB vs GE']\n"
          ]
        }
      ]
    },
    {
      "cell_type": "code",
      "metadata": {
        "colab": {
          "base_uri": "https://localhost:8080/"
        },
        "id": "N56M_SRF67Zp",
        "outputId": "7588192d-bf8c-48ca-8d8c-f147b4547522"
      },
      "source": [
        "print ([(x, y) for x in [1,2,3,7] for y in [3,1,4,6] if x != y])\n",
        "print ([str(x) + ' vs ' + str(y) for x in ['GGWP','DOGE','TW','OSU']\n",
        "                                for y in ['O','Z','B','CK'] if x != y])"
      ],
      "execution_count": 17,
      "outputs": [
        {
          "output_type": "stream",
          "name": "stdout",
          "text": [
            "[(1, 3), (1, 4), (1, 6), (2, 3), (2, 1), (2, 4), (2, 6), (3, 1), (3, 4), (3, 6), (7, 3), (7, 1), (7, 4), (7, 6)]\n",
            "['GGWP vs O', 'GGWP vs Z', 'GGWP vs B', 'GGWP vs CK', 'DOGE vs O', 'DOGE vs Z', 'DOGE vs B', 'DOGE vs CK', 'TW vs O', 'TW vs Z', 'TW vs B', 'TW vs CK', 'OSU vs O', 'OSU vs Z', 'OSU vs B', 'OSU vs CK']\n"
          ]
        }
      ]
    },
    {
      "cell_type": "code",
      "metadata": {
        "id": "XtFS8zbk7voE"
      },
      "source": [
        ""
      ],
      "execution_count": null,
      "outputs": []
    },
    {
      "cell_type": "markdown",
      "metadata": {
        "id": "cdfh3sHN7zj-"
      },
      "source": [
        "# Functions and Objective-Oriented Programming"
      ]
    },
    {
      "cell_type": "code",
      "metadata": {
        "colab": {
          "base_uri": "https://localhost:8080/"
        },
        "id": "F5f7zVzH72iM",
        "outputId": "a2a17871-a393-47a7-b3ba-a986c645d56f"
      },
      "source": [
        "# -- Functions --\n",
        "def product(x,y):\n",
        "    return x*y\n",
        "print (product(2,3))\n",
        "print (product(5,10))"
      ],
      "execution_count": 19,
      "outputs": [
        {
          "output_type": "stream",
          "name": "stdout",
          "text": [
            "6\n",
            "50\n"
          ]
        }
      ]
    },
    {
      "cell_type": "code",
      "metadata": {
        "colab": {
          "base_uri": "https://localhost:8080/"
        },
        "id": "YKYeXi478cUW",
        "outputId": "56c9f87b-1a33-401e-d3c8-1c82c4c6b252"
      },
      "source": [
        "def divison(x,y):\n",
        "    return x/y\n",
        "print (divison(2,3))\n",
        "print (divison(5,10))"
      ],
      "execution_count": 25,
      "outputs": [
        {
          "output_type": "stream",
          "name": "stdout",
          "text": [
            "0.6666666666666666\n",
            "0.5\n"
          ]
        }
      ]
    },
    {
      "cell_type": "code",
      "metadata": {
        "colab": {
          "base_uri": "https://localhost:8080/"
        },
        "id": "2bsUZs218OBK",
        "outputId": "3add07fc-23e3-482a-abd0-06b1eb6630d7"
      },
      "source": [
        "def say_hi():\n",
        "    print (\"Welcome to QuantConnect\")\n",
        "say_hi()"
      ],
      "execution_count": 26,
      "outputs": [
        {
          "output_type": "stream",
          "name": "stdout",
          "text": [
            "Welcome to QuantConnect\n"
          ]
        }
      ]
    },
    {
      "cell_type": "code",
      "metadata": {
        "colab": {
          "base_uri": "https://localhost:8080/"
        },
        "id": "G_tTLmIt8tyW",
        "outputId": "246eb188-e273-4fa0-a53c-2b9da769a36a"
      },
      "source": [
        "def say_goodbye():\n",
        "    print (\"Goodbye World\")\n",
        "say_goodbye()"
      ],
      "execution_count": 27,
      "outputs": [
        {
          "output_type": "stream",
          "name": "stdout",
          "text": [
            "Goodbye World\n"
          ]
        }
      ]
    },
    {
      "cell_type": "code",
      "metadata": {
        "colab": {
          "base_uri": "https://localhost:8080/"
        },
        "id": "1MPnbhGN-j0V",
        "outputId": "a37b0b29-5468-44c4-c9bd-20c416022da5"
      },
      "source": [
        "# Function range()\n",
        "print ([x for x in range(10)])"
      ],
      "execution_count": 39,
      "outputs": [
        {
          "output_type": "stream",
          "name": "stdout",
          "text": [
            "[0, 1, 2, 3, 4, 5, 6, 7, 8, 9]\n"
          ]
        }
      ]
    },
    {
      "cell_type": "code",
      "metadata": {
        "colab": {
          "base_uri": "https://localhost:8080/"
        },
        "id": "JfNVFWDV_4Cs",
        "outputId": "7a59fec2-a4c8-4647-b93c-59dde08c91fc"
      },
      "source": [
        "print ([x for x in range(15)])"
      ],
      "execution_count": 37,
      "outputs": [
        {
          "output_type": "stream",
          "name": "stdout",
          "text": [
            "[0, 1, 2, 3, 4, 5, 6, 7, 8, 9, 10, 11, 12, 13, 14]\n"
          ]
        }
      ]
    },
    {
      "cell_type": "code",
      "metadata": {
        "colab": {
          "base_uri": "https://localhost:8080/"
        },
        "id": "6HzkwUZK_9Wq",
        "outputId": "cb74dc1c-7792-4bc1-dabe-ff782c3e4642"
      },
      "source": [
        "print ([x for x in range(1,11)])"
      ],
      "execution_count": 38,
      "outputs": [
        {
          "output_type": "stream",
          "name": "stdout",
          "text": [
            "[1, 2, 3, 4, 5, 6, 7, 8, 9, 10]\n"
          ]
        }
      ]
    },
    {
      "cell_type": "code",
      "metadata": {
        "colab": {
          "base_uri": "https://localhost:8080/"
        },
        "id": "SWS7bwa8AAzy",
        "outputId": "8a9996d5-9918-4450-c5ea-f1425f50fc32"
      },
      "source": [
        "print ([x for x in range(1,15)])"
      ],
      "execution_count": 40,
      "outputs": [
        {
          "output_type": "stream",
          "name": "stdout",
          "text": [
            "[1, 2, 3, 4, 5, 6, 7, 8, 9, 10, 11, 12, 13, 14]\n"
          ]
        }
      ]
    },
    {
      "cell_type": "code",
      "metadata": {
        "colab": {
          "base_uri": "https://localhost:8080/"
        },
        "id": "Hm8h-xftF2Lq",
        "outputId": "83e0d37b-6630-43f5-be34-bf62854cbb6a"
      },
      "source": [
        "print ([x for x in range(1, 11, 2)])"
      ],
      "execution_count": 41,
      "outputs": [
        {
          "output_type": "stream",
          "name": "stdout",
          "text": [
            "[1, 3, 5, 7, 9]\n"
          ]
        }
      ]
    },
    {
      "cell_type": "code",
      "metadata": {
        "colab": {
          "base_uri": "https://localhost:8080/"
        },
        "id": "EFSLcvG4F59s",
        "outputId": "2ad53c1e-4560-4459-e03c-cd02d3d03768"
      },
      "source": [
        "print ([x for x in range(1, 15, 2)])"
      ],
      "execution_count": 42,
      "outputs": [
        {
          "output_type": "stream",
          "name": "stdout",
          "text": [
            "[1, 3, 5, 7, 9, 11, 13]\n"
          ]
        }
      ]
    },
    {
      "cell_type": "code",
      "metadata": {
        "colab": {
          "base_uri": "https://localhost:8080/"
        },
        "id": "TdCOtamcGNz3",
        "outputId": "3aadf9ea-dcb1-4c64-c8a7-d9743c995fe0"
      },
      "source": [
        "# len() and range()\n",
        "tickers = ['AAPL', 'GOOGL', 'IBM', 'FB', 'F', 'V', 'G', 'GE']\n",
        "print (\"The number of tickers is {}\".format(len(tickers)))\n",
        "for k in range(len(tickers)):\n",
        "    print (k + 1, tickers[k])"
      ],
      "execution_count": 44,
      "outputs": [
        {
          "output_type": "stream",
          "name": "stdout",
          "text": [
            "The number of tickers is 8\n",
            "1 AAPL\n",
            "2 GOOGL\n",
            "3 IBM\n",
            "4 FB\n",
            "5 F\n",
            "6 V\n",
            "7 G\n",
            "8 GE\n"
          ]
        }
      ]
    },
    {
      "cell_type": "code",
      "metadata": {
        "colab": {
          "base_uri": "https://localhost:8080/"
        },
        "id": "EhgiwBXmICC_",
        "outputId": "550f7940-2e46-4bb1-835b-c7766ad07c7b"
      },
      "source": [
        "tickers = ['AAPL', 'GOOGL', 'IBM', 'FB', 'F', 'V', 'G', 'GE']\n",
        "print (\"The number of tickers is {}\".format(len(tickers)))\n",
        "for ticker in tickers:\n",
        "  print(ticker)"
      ],
      "execution_count": 49,
      "outputs": [
        {
          "output_type": "stream",
          "name": "stdout",
          "text": [
            "The number of tickers is 8\n",
            "AAPL\n",
            "GOOGL\n",
            "IBM\n",
            "FB\n",
            "F\n",
            "V\n",
            "G\n",
            "GE\n"
          ]
        }
      ]
    },
    {
      "cell_type": "code",
      "metadata": {
        "colab": {
          "base_uri": "https://localhost:8080/"
        },
        "id": "A9nzFiaCHZDN",
        "outputId": "278ae140-e5c8-40b6-de9d-108202221c70"
      },
      "source": [
        "tickers = ['DOGE','COIN','DELL','IT','TW','VGA', 'DVI', 'GGWP','TWITCH','WYSI']\n",
        "print (\"El numero de tickers es {}\".format(len(tickers)))\n",
        "for k in range(len(tickers)):\n",
        "    print (k + 1, tickers[k])"
      ],
      "execution_count": 47,
      "outputs": [
        {
          "output_type": "stream",
          "name": "stdout",
          "text": [
            "El numero de tickers es 10\n",
            "1 DOGE\n",
            "2 COIN\n",
            "3 DELL\n",
            "4 IT\n",
            "5 TW\n",
            "6 VGA\n",
            "7 DVI\n",
            "8 GGWP\n",
            "9 TWITCH\n",
            "10 WYSI\n"
          ]
        }
      ]
    },
    {
      "cell_type": "code",
      "metadata": {
        "colab": {
          "base_uri": "https://localhost:8080/"
        },
        "id": "ZggrulXIINjW",
        "outputId": "92fc5305-99e9-49dd-b8f4-7c140c5a7254"
      },
      "source": [
        "tickers = ['DOGE','COIN','DELL','IT','TW','VGA', 'DVI', 'GGWP','TWITCH','WYSI']\n",
        "print (\"El numero de tickers es {}\".format(len(tickers)))\n",
        "for ticker in tickers:\n",
        "  print(ticker)"
      ],
      "execution_count": 50,
      "outputs": [
        {
          "output_type": "stream",
          "name": "stdout",
          "text": [
            "El numero de tickers es 10\n",
            "DOGE\n",
            "COIN\n",
            "DELL\n",
            "IT\n",
            "TW\n",
            "VGA\n",
            "DVI\n",
            "GGWP\n",
            "TWITCH\n",
            "WYSI\n"
          ]
        }
      ]
    },
    {
      "cell_type": "code",
      "metadata": {
        "colab": {
          "base_uri": "https://localhost:8080/"
        },
        "id": "AoeDBtUmI6MM",
        "outputId": "760912a1-1443-4dd9-a74b-39006a726304"
      },
      "source": [
        "# map()\n",
        "tickers = ['AAPL','GOOG','IBM','FB','F','V', 'G', 'GE']\n",
        "print(list(map(len,tickers)))"
      ],
      "execution_count": 51,
      "outputs": [
        {
          "output_type": "stream",
          "name": "stdout",
          "text": [
            "[4, 4, 3, 2, 1, 1, 1, 2]\n"
          ]
        }
      ]
    },
    {
      "cell_type": "code",
      "metadata": {
        "colab": {
          "base_uri": "https://localhost:8080/"
        },
        "id": "-ujajpHHKHtL",
        "outputId": "34611159-7bbb-439f-a9ee-13a66e4963d4"
      },
      "source": [
        "tickers = ['DOGE','COIN','DELL','IT','TW','VGA', 'DVI', 'GGWP','TWITCH','WYSI']\n",
        "print(list(map(len,tickers)))"
      ],
      "execution_count": 56,
      "outputs": [
        {
          "output_type": "stream",
          "name": "stdout",
          "text": [
            "[4, 4, 4, 2, 2, 3, 3, 4, 6, 4]\n"
          ]
        }
      ]
    },
    {
      "cell_type": "code",
      "metadata": {
        "colab": {
          "base_uri": "https://localhost:8080/"
        },
        "id": "lZBVJ38FJfzm",
        "outputId": "202cdeee-11b2-4fd9-c28b-c492fac3a90a"
      },
      "source": [
        "# lambda and map()\n",
        "print(list(map(lambda x: x**2, range(10))))"
      ],
      "execution_count": 55,
      "outputs": [
        {
          "output_type": "stream",
          "name": "stdout",
          "text": [
            "[0, 1, 4, 9, 16, 25, 36, 49, 64, 81]\n"
          ]
        }
      ]
    },
    {
      "cell_type": "code",
      "metadata": {
        "colab": {
          "base_uri": "https://localhost:8080/"
        },
        "id": "htNfHQwYKTAs",
        "outputId": "624393d2-e7a0-48f8-eda8-0dceb7fa8db0"
      },
      "source": [
        "print(list(map(lambda x: x**3, range(15))))"
      ],
      "execution_count": 57,
      "outputs": [
        {
          "output_type": "stream",
          "name": "stdout",
          "text": [
            "[0, 1, 8, 27, 64, 125, 216, 343, 512, 729, 1000, 1331, 1728, 2197, 2744]\n"
          ]
        }
      ]
    },
    {
      "cell_type": "code",
      "metadata": {
        "colab": {
          "base_uri": "https://localhost:8080/"
        },
        "id": "2EMosjRnKePE",
        "outputId": "ae637307-fca9-45e1-d9e0-f3ae6a77a1e5"
      },
      "source": [
        "print(list(map(lambda x, y: x+y, [1,2,3,4,5], [5,4,3,2,1])))"
      ],
      "execution_count": 59,
      "outputs": [
        {
          "output_type": "stream",
          "name": "stdout",
          "text": [
            "[6, 6, 6, 6, 6]\n"
          ]
        }
      ]
    },
    {
      "cell_type": "code",
      "metadata": {
        "colab": {
          "base_uri": "https://localhost:8080/"
        },
        "id": "ZKKMygZ5KkOd",
        "outputId": "5420e79e-207a-485a-f121-4b6c3f2f6a21"
      },
      "source": [
        "print(list(map(lambda x, y: x+y, [1,2,3,4,5,6,7,8,9], [9,8,7,6,5,4,3,2,1])))\n",
        "print(list(map(lambda x, y: x-y, [1,2,3,4,5,6,7,8,9], [9,8,7,6,5,4,3,2,1])))"
      ],
      "execution_count": 61,
      "outputs": [
        {
          "output_type": "stream",
          "name": "stdout",
          "text": [
            "[10, 10, 10, 10, 10, 10, 10, 10, 10]\n",
            "[-8, -6, -4, -2, 0, 2, 4, 6, 8]\n"
          ]
        }
      ]
    },
    {
      "cell_type": "code",
      "metadata": {
        "colab": {
          "base_uri": "https://localhost:8080/"
        },
        "id": "6ruwkCmALBjC",
        "outputId": "e6a91e3a-9a35-4e25-ed77-acc172d16164"
      },
      "source": [
        "# sorted()\n",
        "sorted([5,2,3,4,1])"
      ],
      "execution_count": 62,
      "outputs": [
        {
          "output_type": "execute_result",
          "data": {
            "text/plain": [
              "[1, 2, 3, 4, 5]"
            ]
          },
          "metadata": {},
          "execution_count": 62
        }
      ]
    },
    {
      "cell_type": "code",
      "metadata": {
        "colab": {
          "base_uri": "https://localhost:8080/"
        },
        "id": "D7NC5SrJLFTb",
        "outputId": "8e522e33-e4b2-4fbd-8c6b-aabb7e311795"
      },
      "source": [
        "sorted(['DOGE','COIN','DELL','IT','TW','VGA', 'DVI', 'GGWP','TWITCH','WYSI'])"
      ],
      "execution_count": 63,
      "outputs": [
        {
          "output_type": "execute_result",
          "data": {
            "text/plain": [
              "['COIN', 'DELL', 'DOGE', 'DVI', 'GGWP', 'IT', 'TW', 'TWITCH', 'VGA', 'WYSI']"
            ]
          },
          "metadata": {},
          "execution_count": 63
        }
      ]
    },
    {
      "cell_type": "code",
      "metadata": {
        "colab": {
          "base_uri": "https://localhost:8080/"
        },
        "id": "y-5d_pe-LM4p",
        "outputId": "4ae7cea2-41ec-4a32-c8f4-8366c6f5e0ef"
      },
      "source": [
        "# key and sorted\n",
        "price_list = [('AAPL', 144.09), ('GOOGL', 911.71), ('MSFT', 69), ('FB', 150), ('WMT', 75.32)]\n",
        "sorted(price_list, key = lambda x: x[1])"
      ],
      "execution_count": 66,
      "outputs": [
        {
          "output_type": "execute_result",
          "data": {
            "text/plain": [
              "[('MSFT', 69),\n",
              " ('WMT', 75.32),\n",
              " ('AAPL', 144.09),\n",
              " ('FB', 150),\n",
              " ('GOOGL', 911.71)]"
            ]
          },
          "metadata": {},
          "execution_count": 66
        }
      ]
    },
    {
      "cell_type": "code",
      "metadata": {
        "colab": {
          "base_uri": "https://localhost:8080/"
        },
        "id": "9ZSfXYQvL9vE",
        "outputId": "568e0756-75a8-447f-cf58-b128944108e0"
      },
      "source": [
        "price_list = [('AAPL', 144.09), ('GOOGL', 911.71), ('MSFT', 69), ('FB', 150), ('WMT', 75.32)]\n",
        "sorted(price_list, key = lambda x: x[0])"
      ],
      "execution_count": 67,
      "outputs": [
        {
          "output_type": "execute_result",
          "data": {
            "text/plain": [
              "[('AAPL', 144.09),\n",
              " ('FB', 150),\n",
              " ('GOOGL', 911.71),\n",
              " ('MSFT', 69),\n",
              " ('WMT', 75.32)]"
            ]
          },
          "metadata": {},
          "execution_count": 67
        }
      ]
    },
    {
      "cell_type": "code",
      "metadata": {
        "colab": {
          "base_uri": "https://localhost:8080/"
        },
        "id": "9lxTXa-vNHKi",
        "outputId": "6b82715a-ad23-4fe3-a64b-967145ecde2d"
      },
      "source": [
        "price_list = [('DOGE', 144.09), ('COIN', 911.71), ('DELL', 69), ('IT', 150), ('TW', 75.32),('VGA', 7.27),('WISY', 727),('GGWP', 50)]\n",
        "sorted(price_list, key = lambda x: x[1])"
      ],
      "execution_count": 68,
      "outputs": [
        {
          "output_type": "execute_result",
          "data": {
            "text/plain": [
              "[('VGA', 7.27),\n",
              " ('GGWP', 50),\n",
              " ('DELL', 69),\n",
              " ('TW', 75.32),\n",
              " ('DOGE', 144.09),\n",
              " ('IT', 150),\n",
              " ('WISY', 727),\n",
              " ('COIN', 911.71)]"
            ]
          },
          "metadata": {},
          "execution_count": 68
        }
      ]
    },
    {
      "cell_type": "code",
      "metadata": {
        "colab": {
          "base_uri": "https://localhost:8080/"
        },
        "id": "picMnci9NcMG",
        "outputId": "6b0775ef-37f1-41bc-8705-493fbce6421d"
      },
      "source": [
        "price_list = [('DOGE', 144.09), ('COIN', 911.71), ('DELL', 69), ('IT', 150), ('TW', 75.32),('VGA', 7.27),('WISY', 727),('GGWP', 50)]\n",
        "sorted(price_list, key = lambda x: x[0])"
      ],
      "execution_count": 69,
      "outputs": [
        {
          "output_type": "execute_result",
          "data": {
            "text/plain": [
              "[('COIN', 911.71),\n",
              " ('DELL', 69),\n",
              " ('DOGE', 144.09),\n",
              " ('GGWP', 50),\n",
              " ('IT', 150),\n",
              " ('TW', 75.32),\n",
              " ('VGA', 7.27),\n",
              " ('WISY', 727)]"
            ]
          },
          "metadata": {},
          "execution_count": 69
        }
      ]
    },
    {
      "cell_type": "code",
      "metadata": {
        "colab": {
          "base_uri": "https://localhost:8080/"
        },
        "id": "4YHP3aHZN_Bz",
        "outputId": "1d76c398-e050-4c49-e17b-6159825aaf92"
      },
      "source": [
        "# Argument reverse\n",
        "price_list = [('AAPL', 144.09), ('GOOGL', 911.71), ('MSFT', 69), ('FB', 150), ('WMT', 75.32)]\n",
        "sorted(price_list, key = lambda x: x[1], reverse = True)"
      ],
      "execution_count": 73,
      "outputs": [
        {
          "output_type": "execute_result",
          "data": {
            "text/plain": [
              "[('GOOGL', 911.71),\n",
              " ('FB', 150),\n",
              " ('AAPL', 144.09),\n",
              " ('WMT', 75.32),\n",
              " ('MSFT', 69)]"
            ]
          },
          "metadata": {},
          "execution_count": 73
        }
      ]
    },
    {
      "cell_type": "code",
      "metadata": {
        "colab": {
          "base_uri": "https://localhost:8080/"
        },
        "id": "LdKyUmv9Oh1H",
        "outputId": "122be17b-3183-4e10-f50a-718abcf67790"
      },
      "source": [
        "price_list = [('DOGE', 144.09), ('COIN', 911.71), ('DELL', 69), ('IT', 150), ('TW', 75.32),('VGA', 7.27),('WISY', 727),('GGWP', 50)]\n",
        "sorted(price_list, key = lambda x: x[1], reverse = True)"
      ],
      "execution_count": 75,
      "outputs": [
        {
          "output_type": "execute_result",
          "data": {
            "text/plain": [
              "[('COIN', 911.71),\n",
              " ('WISY', 727),\n",
              " ('IT', 150),\n",
              " ('DOGE', 144.09),\n",
              " ('TW', 75.32),\n",
              " ('DELL', 69),\n",
              " ('GGWP', 50),\n",
              " ('VGA', 7.27)]"
            ]
          },
          "metadata": {},
          "execution_count": 75
        }
      ]
    },
    {
      "cell_type": "code",
      "metadata": {
        "colab": {
          "base_uri": "https://localhost:8080/"
        },
        "id": "TC51rwJkOJZ5",
        "outputId": "53f19ecb-03f1-413a-8bc4-86aa0ec2bb9e"
      },
      "source": [
        "# method .sort()\n",
        "price_list = [('AAPL', 144.09), ('GOOGL', 911.71), ('MSFT', 69), ('FB', 150), ('WMT', 75.32)]\n",
        "price_list.sort(key = lambda x: x[1])\n",
        "print (price_list)"
      ],
      "execution_count": 71,
      "outputs": [
        {
          "output_type": "stream",
          "name": "stdout",
          "text": [
            "[('MSFT', 69), ('WMT', 75.32), ('AAPL', 144.09), ('FB', 150), ('GOOGL', 911.71)]\n"
          ]
        }
      ]
    },
    {
      "cell_type": "code",
      "metadata": {
        "colab": {
          "base_uri": "https://localhost:8080/"
        },
        "id": "mmgF7BljOagl",
        "outputId": "0c51b19c-127e-459e-ceeb-1cb6a6144156"
      },
      "source": [
        "price_list = [('DOGE', 144.09), ('COIN', 911.71), ('DELL', 69), ('IT', 150), ('TW', 75.32),('VGA', 7.27),('WISY', 727),('GGWP', 50)]\n",
        "price_list.sort(key = lambda x: x[1])\n",
        "print (price_list)"
      ],
      "execution_count": 74,
      "outputs": [
        {
          "output_type": "stream",
          "name": "stdout",
          "text": [
            "[('VGA', 7.27), ('GGWP', 50), ('DELL', 69), ('TW', 75.32), ('DOGE', 144.09), ('IT', 150), ('WISY', 727), ('COIN', 911.71)]\n"
          ]
        }
      ]
    },
    {
      "cell_type": "code",
      "metadata": {
        "id": "qZcu-yUDPCGx"
      },
      "source": [
        "# ------ Object-Oriented Programming -------\n",
        "class Stock:\n",
        "    def __init__(self, ticker, open, close, volume):\n",
        "        self.ticker = ticker\n",
        "        self.open = open\n",
        "        self.close = close\n",
        "        self.volume = volume\n",
        "        self.rate_return = float(close)/open - 1\n",
        "\n",
        "    def update(self, open, close):\n",
        "        self.open = open\n",
        "        self.close = close\n",
        "        self.rate_return = float(self.close)/self.open - 1\n",
        "\n",
        "    def print_return(self):\n",
        "        print (self.rate_return)"
      ],
      "execution_count": 77,
      "outputs": []
    },
    {
      "cell_type": "code",
      "metadata": {
        "id": "9PhJ85JfRoip"
      },
      "source": [
        "apple  = Stock('AAPL', 143.69, 144.09, 20109375)\n",
        "google = Stock('GOOGL', 898.7, 911.7, 1561616)\n",
        "ibm = Stock('IBM',727,800,345987)"
      ],
      "execution_count": 79,
      "outputs": []
    },
    {
      "cell_type": "code",
      "metadata": {
        "colab": {
          "base_uri": "https://localhost:8080/",
          "height": 35
        },
        "id": "RH6nq2ArR4Yl",
        "outputId": "cc001ac0-e594-4fb1-98a8-543d4ef19ba4"
      },
      "source": [
        "apple.ticker"
      ],
      "execution_count": 84,
      "outputs": [
        {
          "output_type": "execute_result",
          "data": {
            "application/vnd.google.colaboratory.intrinsic+json": {
              "type": "string"
            },
            "text/plain": [
              "'AAPL'"
            ]
          },
          "metadata": {},
          "execution_count": 84
        }
      ]
    },
    {
      "cell_type": "code",
      "metadata": {
        "colab": {
          "base_uri": "https://localhost:8080/",
          "height": 35
        },
        "id": "X3FMJRJwSB-2",
        "outputId": "f1cbf404-bad9-4bec-cf9b-333dfaac85f1"
      },
      "source": [
        "ibm.ticker"
      ],
      "execution_count": 85,
      "outputs": [
        {
          "output_type": "execute_result",
          "data": {
            "application/vnd.google.colaboratory.intrinsic+json": {
              "type": "string"
            },
            "text/plain": [
              "'IBM'"
            ]
          },
          "metadata": {},
          "execution_count": 85
        }
      ]
    },
    {
      "cell_type": "code",
      "metadata": {
        "colab": {
          "base_uri": "https://localhost:8080/"
        },
        "id": "1AEZmuQYR6h2",
        "outputId": "2f267639-cd1c-4d4c-b025-873ccd40aa8f"
      },
      "source": [
        "google.print_return()\n",
        "ibm.print_return()"
      ],
      "execution_count": 86,
      "outputs": [
        {
          "output_type": "stream",
          "name": "stdout",
          "text": [
            "0.014465338822744034\n",
            "0.10041265474552952\n"
          ]
        }
      ]
    },
    {
      "cell_type": "code",
      "metadata": {
        "colab": {
          "base_uri": "https://localhost:8080/"
        },
        "id": "hQ6Zv3X1SIwj",
        "outputId": "59368cd5-7450-452c-e901-bf3805fa8497"
      },
      "source": [
        "google.update(912.8,913.4)\n",
        "google.print_return()"
      ],
      "execution_count": 88,
      "outputs": [
        {
          "output_type": "stream",
          "name": "stdout",
          "text": [
            "0.0006573181419806673\n"
          ]
        }
      ]
    },
    {
      "cell_type": "code",
      "metadata": {
        "colab": {
          "base_uri": "https://localhost:8080/"
        },
        "id": "L4Y2FuBJSN9B",
        "outputId": "8f5345a4-b014-453c-cad2-303cc8f44272"
      },
      "source": [
        "ibm.update(727.27,800.78)\n",
        "ibm.print_return()"
      ],
      "execution_count": 90,
      "outputs": [
        {
          "output_type": "stream",
          "name": "stdout",
          "text": [
            "0.10107662903735881\n"
          ]
        }
      ]
    },
    {
      "cell_type": "code",
      "metadata": {
        "colab": {
          "base_uri": "https://localhost:8080/",
          "height": 35
        },
        "id": "0mjgQCkSSkuE",
        "outputId": "4c15c7c0-52db-4a42-fdbd-baf2a2708c12"
      },
      "source": [
        "apple.ceo = 'Tim Cook'\n",
        "apple.ceo"
      ],
      "execution_count": 91,
      "outputs": [
        {
          "output_type": "execute_result",
          "data": {
            "application/vnd.google.colaboratory.intrinsic+json": {
              "type": "string"
            },
            "text/plain": [
              "'Tim Cook'"
            ]
          },
          "metadata": {},
          "execution_count": 91
        }
      ]
    },
    {
      "cell_type": "code",
      "metadata": {
        "colab": {
          "base_uri": "https://localhost:8080/",
          "height": 35
        },
        "id": "2ZjFuA_hSxec",
        "outputId": "486d960d-e4c7-4f27-8d53-e21f1ccb1d5b"
      },
      "source": [
        "ibm.ceo = 'Arvind Krishna'\n",
        "ibm.ceo"
      ],
      "execution_count": 93,
      "outputs": [
        {
          "output_type": "execute_result",
          "data": {
            "application/vnd.google.colaboratory.intrinsic+json": {
              "type": "string"
            },
            "text/plain": [
              "'Arvind Krishna'"
            ]
          },
          "metadata": {},
          "execution_count": 93
        }
      ]
    },
    {
      "cell_type": "code",
      "metadata": {
        "colab": {
          "base_uri": "https://localhost:8080/"
        },
        "id": "oC5jMIzbSnZv",
        "outputId": "5550852b-f4cc-4a6b-9f4c-c37c4ea3fac4"
      },
      "source": [
        "dir(apple)"
      ],
      "execution_count": 92,
      "outputs": [
        {
          "output_type": "execute_result",
          "data": {
            "text/plain": [
              "['__class__',\n",
              " '__delattr__',\n",
              " '__dict__',\n",
              " '__dir__',\n",
              " '__doc__',\n",
              " '__eq__',\n",
              " '__format__',\n",
              " '__ge__',\n",
              " '__getattribute__',\n",
              " '__gt__',\n",
              " '__hash__',\n",
              " '__init__',\n",
              " '__init_subclass__',\n",
              " '__le__',\n",
              " '__lt__',\n",
              " '__module__',\n",
              " '__ne__',\n",
              " '__new__',\n",
              " '__reduce__',\n",
              " '__reduce_ex__',\n",
              " '__repr__',\n",
              " '__setattr__',\n",
              " '__sizeof__',\n",
              " '__str__',\n",
              " '__subclasshook__',\n",
              " '__weakref__',\n",
              " 'ceo',\n",
              " 'close',\n",
              " 'open',\n",
              " 'print_return',\n",
              " 'rate_return',\n",
              " 'ticker',\n",
              " 'update',\n",
              " 'volume']"
            ]
          },
          "metadata": {},
          "execution_count": 92
        }
      ]
    },
    {
      "cell_type": "code",
      "metadata": {
        "colab": {
          "base_uri": "https://localhost:8080/"
        },
        "id": "XJHotSqZS5ah",
        "outputId": "46bf35b9-7d5a-4072-99dd-2f5e6cd2a16d"
      },
      "source": [
        "dir(ibm)"
      ],
      "execution_count": 94,
      "outputs": [
        {
          "output_type": "execute_result",
          "data": {
            "text/plain": [
              "['__class__',\n",
              " '__delattr__',\n",
              " '__dict__',\n",
              " '__dir__',\n",
              " '__doc__',\n",
              " '__eq__',\n",
              " '__format__',\n",
              " '__ge__',\n",
              " '__getattribute__',\n",
              " '__gt__',\n",
              " '__hash__',\n",
              " '__init__',\n",
              " '__init_subclass__',\n",
              " '__le__',\n",
              " '__lt__',\n",
              " '__module__',\n",
              " '__ne__',\n",
              " '__new__',\n",
              " '__reduce__',\n",
              " '__reduce_ex__',\n",
              " '__repr__',\n",
              " '__setattr__',\n",
              " '__sizeof__',\n",
              " '__str__',\n",
              " '__subclasshook__',\n",
              " '__weakref__',\n",
              " 'ceo',\n",
              " 'close',\n",
              " 'open',\n",
              " 'print_return',\n",
              " 'rate_return',\n",
              " 'ticker',\n",
              " 'update',\n",
              " 'volume']"
            ]
          },
          "metadata": {},
          "execution_count": 94
        }
      ]
    },
    {
      "cell_type": "code",
      "metadata": {
        "id": "JzPNkqIGTEwG"
      },
      "source": [
        "# -- Inheritance -- \n",
        "class Child(Stock):\n",
        "    def __init__(self, name):\n",
        "        self.name = name"
      ],
      "execution_count": 95,
      "outputs": []
    },
    {
      "cell_type": "code",
      "metadata": {
        "colab": {
          "base_uri": "https://localhost:8080/"
        },
        "id": "LtxHkQXVTKIn",
        "outputId": "d4db3702-3f6f-4b70-91cc-f5eef8677f18"
      },
      "source": [
        "aa = Child('AA')\n",
        "bb = Child('BB')\n",
        "print (aa.name)\n",
        "print (bb.name)"
      ],
      "execution_count": 109,
      "outputs": [
        {
          "output_type": "stream",
          "name": "stdout",
          "text": [
            "AA\n",
            "BB\n"
          ]
        }
      ]
    },
    {
      "cell_type": "code",
      "metadata": {
        "colab": {
          "base_uri": "https://localhost:8080/"
        },
        "id": "w3KKMFyYTPYS",
        "outputId": "89233533-e09f-4677-a15e-f7cc51f7316f"
      },
      "source": [
        "aa.update(100, 102)\n",
        "bb.update(727, 800)\n",
        "print (aa.open)\n",
        "print (bb.open)"
      ],
      "execution_count": 110,
      "outputs": [
        {
          "output_type": "stream",
          "name": "stdout",
          "text": [
            "100\n",
            "727\n"
          ]
        }
      ]
    },
    {
      "cell_type": "code",
      "metadata": {
        "colab": {
          "base_uri": "https://localhost:8080/"
        },
        "id": "N6ODeFqRTUjx",
        "outputId": "2f834ca6-5f57-4904-e2c3-894fd8d7ada1"
      },
      "source": [
        "print (aa.close)\n",
        "print (bb.close)"
      ],
      "execution_count": 111,
      "outputs": [
        {
          "output_type": "stream",
          "name": "stdout",
          "text": [
            "102\n",
            "800\n"
          ]
        }
      ]
    },
    {
      "cell_type": "code",
      "metadata": {
        "colab": {
          "base_uri": "https://localhost:8080/"
        },
        "id": "p3u3XRl4TXM2",
        "outputId": "a46b95ab-4596-4250-cbcd-268ac8d6442d"
      },
      "source": [
        "print (aa.print_return())\n",
        "print (bb.print_return())"
      ],
      "execution_count": 112,
      "outputs": [
        {
          "output_type": "stream",
          "name": "stdout",
          "text": [
            "0.020000000000000018\n",
            "None\n",
            "0.10041265474552952\n",
            "None\n"
          ]
        }
      ]
    },
    {
      "cell_type": "markdown",
      "metadata": {
        "id": "oIw_LGB-UPxr"
      },
      "source": [
        "# NumPy and Basic Pandas"
      ]
    },
    {
      "cell_type": "code",
      "metadata": {
        "colab": {
          "base_uri": "https://localhost:8080/"
        },
        "id": "f7jUMs7BUTGj",
        "outputId": "734aa536-e577-43e7-a811-393773d5efb9"
      },
      "source": [
        "# -- NumPy -- \n",
        "import numpy as np\n",
        "price_list = [143.73, 145.83, 143.68, 144.02, 143.5, 142.62]\n",
        "price_array = np.array(price_list)\n",
        "print (price_array, type(price_array))"
      ],
      "execution_count": 115,
      "outputs": [
        {
          "output_type": "stream",
          "name": "stdout",
          "text": [
            "[143.73 145.83 143.68 144.02 143.5  142.62] <class 'numpy.ndarray'>\n"
          ]
        }
      ]
    },
    {
      "cell_type": "code",
      "metadata": {
        "colab": {
          "base_uri": "https://localhost:8080/"
        },
        "id": "-B34esIaVYAK",
        "outputId": "f2988808-2161-4c92-aed8-d4040d15f434"
      },
      "source": [
        "my_price_list = [727.01, 727.27, 728.68, 725.78, 780.12, 720.42, 717.23]\n",
        "my_price_array = np.array(my_price_list)\n",
        "print (my_price_array, type(my_price_array))"
      ],
      "execution_count": 118,
      "outputs": [
        {
          "output_type": "stream",
          "name": "stdout",
          "text": [
            "[727.01 727.27 728.68 725.78 780.12 720.42 717.23] <class 'numpy.ndarray'>\n"
          ]
        }
      ]
    },
    {
      "cell_type": "code",
      "metadata": {
        "colab": {
          "base_uri": "https://localhost:8080/"
        },
        "id": "V1dp9ex7W3x0",
        "outputId": "c00eec9f-6904-4514-d64f-3e34d224bd4f"
      },
      "source": [
        "Ar = np.array([[1,3], [2,4]])\n",
        "print (Ar, type(Ar))"
      ],
      "execution_count": 120,
      "outputs": [
        {
          "output_type": "stream",
          "name": "stdout",
          "text": [
            "[[1 3]\n",
            " [2 4]] <class 'numpy.ndarray'>\n"
          ]
        }
      ]
    },
    {
      "cell_type": "code",
      "metadata": {
        "colab": {
          "base_uri": "https://localhost:8080/"
        },
        "id": "yEUs7C_mW7b9",
        "outputId": "24893648-bbe3-4a79-b8e2-7f50901ac4b3"
      },
      "source": [
        "Arr = np.array([[45,23], [72,7]])\n",
        "print (Arr, type(Arr))"
      ],
      "execution_count": 122,
      "outputs": [
        {
          "output_type": "stream",
          "name": "stdout",
          "text": [
            "[[45 23]\n",
            " [72  7]] <class 'numpy.ndarray'>\n"
          ]
        }
      ]
    },
    {
      "cell_type": "code",
      "metadata": {
        "colab": {
          "base_uri": "https://localhost:8080/"
        },
        "id": "51nmCdLTXHy1",
        "outputId": "b42b8fd1-bc48-48dc-adf0-5ba30b08e87d"
      },
      "source": [
        "print (Ar.shape)\n",
        "print (Arr.shape)"
      ],
      "execution_count": 123,
      "outputs": [
        {
          "output_type": "stream",
          "name": "stdout",
          "text": [
            "(2, 2)\n",
            "(2, 2)\n"
          ]
        }
      ]
    },
    {
      "cell_type": "code",
      "metadata": {
        "colab": {
          "base_uri": "https://localhost:8080/"
        },
        "id": "Kse-1aNgZ9ai",
        "outputId": "d3e59932-7130-4d96-f9c9-d78c7726e05c"
      },
      "source": [
        "print (Ar[0])"
      ],
      "execution_count": 124,
      "outputs": [
        {
          "output_type": "stream",
          "name": "stdout",
          "text": [
            "[1 3]\n"
          ]
        }
      ]
    },
    {
      "cell_type": "code",
      "metadata": {
        "colab": {
          "base_uri": "https://localhost:8080/"
        },
        "id": "BnA_peKHaATG",
        "outputId": "00529a39-4420-4ef1-d633-75b055ca66d1"
      },
      "source": [
        "print (Ar[1])"
      ],
      "execution_count": 125,
      "outputs": [
        {
          "output_type": "stream",
          "name": "stdout",
          "text": [
            "[2 4]\n"
          ]
        }
      ]
    },
    {
      "cell_type": "code",
      "metadata": {
        "colab": {
          "base_uri": "https://localhost:8080/"
        },
        "id": "xaKumo6VaDLC",
        "outputId": "d947071a-0310-4f6b-d0d7-28d2bcd5b152"
      },
      "source": [
        "print (Arr[0])"
      ],
      "execution_count": 126,
      "outputs": [
        {
          "output_type": "stream",
          "name": "stdout",
          "text": [
            "[45 23]\n"
          ]
        }
      ]
    },
    {
      "cell_type": "code",
      "metadata": {
        "colab": {
          "base_uri": "https://localhost:8080/"
        },
        "id": "ymDc2U0DaEWn",
        "outputId": "2810b113-f6db-43e4-d1e3-1d1d0a7c10d0"
      },
      "source": [
        "print (Arr[1])"
      ],
      "execution_count": 127,
      "outputs": [
        {
          "output_type": "stream",
          "name": "stdout",
          "text": [
            "[72  7]\n"
          ]
        }
      ]
    },
    {
      "cell_type": "code",
      "metadata": {
        "colab": {
          "base_uri": "https://localhost:8080/"
        },
        "id": "uRcIhoEPcAZI",
        "outputId": "ac47a4af-d23d-4ead-9447-dcef1d5d87c6"
      },
      "source": [
        "print ('First column:', Ar[:,0])"
      ],
      "execution_count": 128,
      "outputs": [
        {
          "output_type": "stream",
          "name": "stdout",
          "text": [
            "First column: [1 2]\n"
          ]
        }
      ]
    },
    {
      "cell_type": "code",
      "metadata": {
        "colab": {
          "base_uri": "https://localhost:8080/"
        },
        "id": "AJAYuCvqcEKh",
        "outputId": "1a4e14b9-4322-4af9-d221-54c5175a83e3"
      },
      "source": [
        "print ('Primera Columna:', Arr[:,0])"
      ],
      "execution_count": 129,
      "outputs": [
        {
          "output_type": "stream",
          "name": "stdout",
          "text": [
            "Primera Columna: [45 72]\n"
          ]
        }
      ]
    },
    {
      "cell_type": "code",
      "metadata": {
        "colab": {
          "base_uri": "https://localhost:8080/"
        },
        "id": "KGmzfnr8cKAG",
        "outputId": "fb8dfaf6-87eb-47ff-fc7b-b602404cf16b"
      },
      "source": [
        "print ('Second column:', Ar[:,1])"
      ],
      "execution_count": 130,
      "outputs": [
        {
          "output_type": "stream",
          "name": "stdout",
          "text": [
            "Second column: [3 4]\n"
          ]
        }
      ]
    },
    {
      "cell_type": "code",
      "metadata": {
        "colab": {
          "base_uri": "https://localhost:8080/"
        },
        "id": "gyvZvoMucMmH",
        "outputId": "83686540-2d0d-4455-cc42-897dc1d2ab2a"
      },
      "source": [
        "print ('Segunda Columna:', Arr[:,1])"
      ],
      "execution_count": 131,
      "outputs": [
        {
          "output_type": "stream",
          "name": "stdout",
          "text": [
            "Segunda Columna: [23  7]\n"
          ]
        }
      ]
    },
    {
      "cell_type": "code",
      "metadata": {
        "colab": {
          "base_uri": "https://localhost:8080/"
        },
        "id": "TC2A7BJ3cSCY",
        "outputId": "8f400790-b703-486d-cf16-729b3d281e2d"
      },
      "source": [
        "# -- Array Functions --\n",
        "np.log(price_array)"
      ],
      "execution_count": 133,
      "outputs": [
        {
          "output_type": "execute_result",
          "data": {
            "text/plain": [
              "array([4.96793654, 4.98244156, 4.9675886 , 4.96995218, 4.96633504,\n",
              "       4.96018375])"
            ]
          },
          "metadata": {},
          "execution_count": 133
        }
      ]
    },
    {
      "cell_type": "code",
      "metadata": {
        "colab": {
          "base_uri": "https://localhost:8080/"
        },
        "id": "EBMoJx41g6Bo",
        "outputId": "c7918e26-fd39-4033-8df2-cf341d9b32fb"
      },
      "source": [
        "np.log(my_price_array)"
      ],
      "execution_count": 134,
      "outputs": [
        {
          "output_type": "execute_result",
          "data": {
            "text/plain": [
              "array([6.58894023, 6.5892978 , 6.59123468, 6.58724694, 6.65944775,\n",
              "       6.57983438, 6.57539657])"
            ]
          },
          "metadata": {},
          "execution_count": 134
        }
      ]
    },
    {
      "cell_type": "code",
      "metadata": {
        "colab": {
          "base_uri": "https://localhost:8080/"
        },
        "id": "jHIRJ5Y1g-7T",
        "outputId": "d880955b-4fbe-48f5-c1b3-0cec0bde537a"
      },
      "source": [
        "np.mean(price_array)"
      ],
      "execution_count": 135,
      "outputs": [
        {
          "output_type": "execute_result",
          "data": {
            "text/plain": [
              "143.89666666666668"
            ]
          },
          "metadata": {},
          "execution_count": 135
        }
      ]
    },
    {
      "cell_type": "code",
      "metadata": {
        "colab": {
          "base_uri": "https://localhost:8080/"
        },
        "id": "5ggzqLnIg_3R",
        "outputId": "b36b9851-ee15-47b8-98ec-2fa0ae7d5fed"
      },
      "source": [
        "np.mean(my_price_array)"
      ],
      "execution_count": 136,
      "outputs": [
        {
          "output_type": "execute_result",
          "data": {
            "text/plain": [
              "732.3585714285715"
            ]
          },
          "metadata": {},
          "execution_count": 136
        }
      ]
    },
    {
      "cell_type": "code",
      "metadata": {
        "colab": {
          "base_uri": "https://localhost:8080/"
        },
        "id": "zyE6oz2ihCvt",
        "outputId": "eafbf352-61c4-4b41-9735-92db309956f6"
      },
      "source": [
        "print (np.std(price_array))"
      ],
      "execution_count": 138,
      "outputs": [
        {
          "output_type": "stream",
          "name": "stdout",
          "text": [
            "0.9673790478515796\n"
          ]
        }
      ]
    },
    {
      "cell_type": "code",
      "metadata": {
        "colab": {
          "base_uri": "https://localhost:8080/"
        },
        "id": "YdUyeZk5hFJD",
        "outputId": "5e27be16-885c-400c-a272-6ba186293587"
      },
      "source": [
        "print (np.std(my_price_array))"
      ],
      "execution_count": 139,
      "outputs": [
        {
          "output_type": "stream",
          "name": "stdout",
          "text": [
            "19.870536284783515\n"
          ]
        }
      ]
    },
    {
      "cell_type": "code",
      "metadata": {
        "colab": {
          "base_uri": "https://localhost:8080/"
        },
        "id": "ka3yLPpYhIUY",
        "outputId": "87286a5a-097d-4c9a-fb7a-c699f4046b08"
      },
      "source": [
        "print (np.sum(price_array))"
      ],
      "execution_count": 140,
      "outputs": [
        {
          "output_type": "stream",
          "name": "stdout",
          "text": [
            "863.38\n"
          ]
        }
      ]
    },
    {
      "cell_type": "code",
      "metadata": {
        "colab": {
          "base_uri": "https://localhost:8080/"
        },
        "id": "75IJSaL5hKRJ",
        "outputId": "1e52dd98-f4f2-4e27-bd7f-61ab73e927f7"
      },
      "source": [
        "print (np.sum(my_price_array))"
      ],
      "execution_count": 141,
      "outputs": [
        {
          "output_type": "stream",
          "name": "stdout",
          "text": [
            "5126.51\n"
          ]
        }
      ]
    },
    {
      "cell_type": "code",
      "metadata": {
        "colab": {
          "base_uri": "https://localhost:8080/"
        },
        "id": "FYUHTDpNhN3u",
        "outputId": "da72effc-4150-49fd-9b20-fe2941f2ea75"
      },
      "source": [
        "print (np.max(price_array))"
      ],
      "execution_count": 142,
      "outputs": [
        {
          "output_type": "stream",
          "name": "stdout",
          "text": [
            "145.83\n"
          ]
        }
      ]
    },
    {
      "cell_type": "code",
      "metadata": {
        "colab": {
          "base_uri": "https://localhost:8080/"
        },
        "id": "Fr1Szo6UhQxW",
        "outputId": "5f1e9a65-53fe-426d-af08-d8a0d439cb1c"
      },
      "source": [
        "print (np.max(my_price_array))"
      ],
      "execution_count": 143,
      "outputs": [
        {
          "output_type": "stream",
          "name": "stdout",
          "text": [
            "780.12\n"
          ]
        }
      ]
    },
    {
      "cell_type": "code",
      "metadata": {
        "colab": {
          "base_uri": "https://localhost:8080/"
        },
        "id": "_wGfgb83hgX4",
        "outputId": "a6ca7a2d-f5c3-4df3-98ff-0eb2004efdcb"
      },
      "source": [
        "# ------- Pandas -------\n",
        "import pandas as pd\n",
        "price = [143.73, 145.83, 143.68, 144.02, 143.5, 142.62]\n",
        "s = pd.Series(price)\n",
        "print (s)"
      ],
      "execution_count": 147,
      "outputs": [
        {
          "output_type": "stream",
          "name": "stdout",
          "text": [
            "0    143.73\n",
            "1    145.83\n",
            "2    143.68\n",
            "3    144.02\n",
            "4    143.50\n",
            "5    142.62\n",
            "dtype: float64\n"
          ]
        }
      ]
    },
    {
      "cell_type": "code",
      "metadata": {
        "colab": {
          "base_uri": "https://localhost:8080/"
        },
        "id": "m1U9dnv7h6cI",
        "outputId": "fd613998-0414-4a8c-f796-439ba8d0c322"
      },
      "source": [
        "my_price = [727.01, 727.27, 728.68, 725.78, 780.12, 720.42, 717.23]\n",
        "ss = pd.Series(my_price)\n",
        "print (ss)"
      ],
      "execution_count": 148,
      "outputs": [
        {
          "output_type": "stream",
          "name": "stdout",
          "text": [
            "0    727.01\n",
            "1    727.27\n",
            "2    728.68\n",
            "3    725.78\n",
            "4    780.12\n",
            "5    720.42\n",
            "6    717.23\n",
            "dtype: float64\n"
          ]
        }
      ]
    },
    {
      "cell_type": "code",
      "metadata": {
        "colab": {
          "base_uri": "https://localhost:8080/"
        },
        "id": "5uG7jfNBiKLy",
        "outputId": "df36c89b-8f53-4688-9375-ff3c16b24eda"
      },
      "source": [
        "s = pd.Series(price, index = ['a', 'b', 'c', 'd', 'e', 'f'])\n",
        "print (s)"
      ],
      "execution_count": 149,
      "outputs": [
        {
          "output_type": "stream",
          "name": "stdout",
          "text": [
            "a    143.73\n",
            "b    145.83\n",
            "c    143.68\n",
            "d    144.02\n",
            "e    143.50\n",
            "f    142.62\n",
            "dtype: float64\n"
          ]
        }
      ]
    },
    {
      "cell_type": "code",
      "metadata": {
        "colab": {
          "base_uri": "https://localhost:8080/"
        },
        "id": "ZBzD3xF6iN4f",
        "outputId": "0f01d1cf-7cd1-43c5-d7e9-06ac75ca64be"
      },
      "source": [
        "ss = pd.Series(my_price, index = ['a', 'b', 'c', 'd', 'e', 'f','g'])\n",
        "print (ss)"
      ],
      "execution_count": 152,
      "outputs": [
        {
          "output_type": "stream",
          "name": "stdout",
          "text": [
            "a    727.01\n",
            "b    727.27\n",
            "c    728.68\n",
            "d    725.78\n",
            "e    780.12\n",
            "f    720.42\n",
            "g    717.23\n",
            "dtype: float64\n"
          ]
        }
      ]
    },
    {
      "cell_type": "code",
      "metadata": {
        "colab": {
          "base_uri": "https://localhost:8080/"
        },
        "id": "N6pWgCA0ibD8",
        "outputId": "dc644d2a-3573-4dbd-fd2d-bc0ed6c4c1fa"
      },
      "source": [
        "s.index = [6,5,4,3,2,1]\n",
        "print (s)"
      ],
      "execution_count": 153,
      "outputs": [
        {
          "output_type": "stream",
          "name": "stdout",
          "text": [
            "6    143.73\n",
            "5    145.83\n",
            "4    143.68\n",
            "3    144.02\n",
            "2    143.50\n",
            "1    142.62\n",
            "dtype: float64\n"
          ]
        }
      ]
    },
    {
      "cell_type": "code",
      "metadata": {
        "colab": {
          "base_uri": "https://localhost:8080/"
        },
        "id": "jo94NmWjidBi",
        "outputId": "05c73ff7-6f63-4a9c-f61c-b30ffc883b13"
      },
      "source": [
        "ss.index = [16,15,14,13,12,11,10]\n",
        "print (ss)"
      ],
      "execution_count": 155,
      "outputs": [
        {
          "output_type": "stream",
          "name": "stdout",
          "text": [
            "16    727.01\n",
            "15    727.27\n",
            "14    728.68\n",
            "13    725.78\n",
            "12    780.12\n",
            "11    720.42\n",
            "10    717.23\n",
            "dtype: float64\n"
          ]
        }
      ]
    },
    {
      "cell_type": "code",
      "metadata": {
        "colab": {
          "base_uri": "https://localhost:8080/"
        },
        "id": "VcCphVmcjCHa",
        "outputId": "714b5c3f-bea7-4303-92e5-361aca00f060"
      },
      "source": [
        "print (s[1:])\n",
        "print (s[:-2])"
      ],
      "execution_count": 156,
      "outputs": [
        {
          "output_type": "stream",
          "name": "stdout",
          "text": [
            "5    145.83\n",
            "4    143.68\n",
            "3    144.02\n",
            "2    143.50\n",
            "1    142.62\n",
            "dtype: float64\n",
            "6    143.73\n",
            "5    145.83\n",
            "4    143.68\n",
            "3    144.02\n",
            "dtype: float64\n"
          ]
        }
      ]
    },
    {
      "cell_type": "code",
      "metadata": {
        "colab": {
          "base_uri": "https://localhost:8080/"
        },
        "id": "yF07Sj0bjJpp",
        "outputId": "7eb98e57-f4bc-4ca6-8528-e20846b496cb"
      },
      "source": [
        "print (ss[1:])\n",
        "print (ss[:-2])"
      ],
      "execution_count": 157,
      "outputs": [
        {
          "output_type": "stream",
          "name": "stdout",
          "text": [
            "15    727.27\n",
            "14    728.68\n",
            "13    725.78\n",
            "12    780.12\n",
            "11    720.42\n",
            "10    717.23\n",
            "dtype: float64\n",
            "16    727.01\n",
            "15    727.27\n",
            "14    728.68\n",
            "13    725.78\n",
            "12    780.12\n",
            "dtype: float64\n"
          ]
        }
      ]
    },
    {
      "cell_type": "code",
      "metadata": {
        "colab": {
          "base_uri": "https://localhost:8080/"
        },
        "id": "Umn6EnpAjPZo",
        "outputId": "14243707-b005-487e-cc91-336dcc8d1106"
      },
      "source": [
        "print (s[4])\n",
        "s[4] = 0\n",
        "print (s)"
      ],
      "execution_count": 158,
      "outputs": [
        {
          "output_type": "stream",
          "name": "stdout",
          "text": [
            "143.68\n",
            "6    143.73\n",
            "5    145.83\n",
            "4      0.00\n",
            "3    144.02\n",
            "2    143.50\n",
            "1    142.62\n",
            "dtype: float64\n"
          ]
        }
      ]
    },
    {
      "cell_type": "code",
      "metadata": {
        "colab": {
          "base_uri": "https://localhost:8080/"
        },
        "id": "SH-cAmdYjTT9",
        "outputId": "0a355ffa-883b-4885-c5e4-5679b5c3ca05"
      },
      "source": [
        "print (ss[14])\n",
        "ss[14] = 0\n",
        "print (ss)"
      ],
      "execution_count": 160,
      "outputs": [
        {
          "output_type": "stream",
          "name": "stdout",
          "text": [
            "728.68\n",
            "16    727.01\n",
            "15    727.27\n",
            "14      0.00\n",
            "13    725.78\n",
            "12    780.12\n",
            "11    720.42\n",
            "10    717.23\n",
            "dtype: float64\n"
          ]
        }
      ]
    },
    {
      "cell_type": "code",
      "metadata": {
        "colab": {
          "base_uri": "https://localhost:8080/"
        },
        "id": "JCxopcvHjfWe",
        "outputId": "6b98c0ce-5e8e-4cfa-c6ef-1f67377f3eeb"
      },
      "source": [
        "s = pd.Series(price, name = 'Apple Prices')\n",
        "print (s)\n",
        "print (s.name)"
      ],
      "execution_count": 161,
      "outputs": [
        {
          "output_type": "stream",
          "name": "stdout",
          "text": [
            "0    143.73\n",
            "1    145.83\n",
            "2    143.68\n",
            "3    144.02\n",
            "4    143.50\n",
            "5    142.62\n",
            "Name: Apple Prices, dtype: float64\n",
            "Apple Prices\n"
          ]
        }
      ]
    },
    {
      "cell_type": "code",
      "metadata": {
        "colab": {
          "base_uri": "https://localhost:8080/"
        },
        "id": "Qj2O9GSlji_y",
        "outputId": "e5ac8024-e5b4-4a6c-841f-2b15e9cb388e"
      },
      "source": [
        "ss = pd.Series(my_price, name = 'IBM Prices')\n",
        "print (ss)\n",
        "print (ss.name)"
      ],
      "execution_count": 162,
      "outputs": [
        {
          "output_type": "stream",
          "name": "stdout",
          "text": [
            "0    727.01\n",
            "1    727.27\n",
            "2    728.68\n",
            "3    725.78\n",
            "4    780.12\n",
            "5    720.42\n",
            "6    717.23\n",
            "Name: IBM Prices, dtype: float64\n",
            "IBM Prices\n"
          ]
        }
      ]
    },
    {
      "cell_type": "code",
      "metadata": {
        "colab": {
          "base_uri": "https://localhost:8080/"
        },
        "id": "9iVGqLaXj1LD",
        "outputId": "8fdf4ace-165a-4ab9-cf8a-35cfc59cf5d9"
      },
      "source": [
        "print (s.describe())"
      ],
      "execution_count": 163,
      "outputs": [
        {
          "output_type": "stream",
          "name": "stdout",
          "text": [
            "count      6.000000\n",
            "mean     143.896667\n",
            "std        1.059711\n",
            "min      142.620000\n",
            "25%      143.545000\n",
            "50%      143.705000\n",
            "75%      143.947500\n",
            "max      145.830000\n",
            "Name: Apple Prices, dtype: float64\n"
          ]
        }
      ]
    },
    {
      "cell_type": "code",
      "metadata": {
        "colab": {
          "base_uri": "https://localhost:8080/"
        },
        "id": "MoK6UKZEj-Er",
        "outputId": "f0c5dd72-a886-4d1e-dca1-5cd33b375a2e"
      },
      "source": [
        "print (ss.describe())"
      ],
      "execution_count": 164,
      "outputs": [
        {
          "output_type": "stream",
          "name": "stdout",
          "text": [
            "count      7.000000\n",
            "mean     732.358571\n",
            "std       21.462632\n",
            "min      717.230000\n",
            "25%      723.100000\n",
            "50%      727.010000\n",
            "75%      727.975000\n",
            "max      780.120000\n",
            "Name: IBM Prices, dtype: float64\n"
          ]
        }
      ]
    },
    {
      "cell_type": "code",
      "metadata": {
        "colab": {
          "base_uri": "https://localhost:8080/"
        },
        "id": "uZ8MtYRJkEkI",
        "outputId": "69b6e922-4f99-4d39-ac7a-cc0b2ab3ab59"
      },
      "source": [
        "# -- Time Index --\n",
        "time_index = pd.date_range('2017-01-01', periods = len(s), freq = 'D')\n",
        "print (time_index)\n",
        "s.index = time_index\n",
        "print (s)"
      ],
      "execution_count": 183,
      "outputs": [
        {
          "output_type": "stream",
          "name": "stdout",
          "text": [
            "DatetimeIndex(['2017-01-01', '2017-01-02', '2017-01-03', '2017-01-04',\n",
            "               '2017-01-05', '2017-01-06'],\n",
            "              dtype='datetime64[ns]', freq='D')\n",
            "2017-01-01    143.73\n",
            "2017-01-02    145.83\n",
            "2017-01-03    143.68\n",
            "2017-01-04    144.02\n",
            "2017-01-05    143.50\n",
            "2017-01-06    142.62\n",
            "Freq: D, Name: Apple Prices, dtype: float64\n"
          ]
        }
      ]
    },
    {
      "cell_type": "code",
      "metadata": {
        "colab": {
          "base_uri": "https://localhost:8080/"
        },
        "id": "ribWuwiEkgIV",
        "outputId": "b7671dfd-11aa-43e7-d804-5593b5145bc5"
      },
      "source": [
        "time_index = pd.date_range('2017-01-01', periods = len(ss), freq = 'D')\n",
        "print (time_index)\n",
        "ss.index = time_index\n",
        "print (ss)"
      ],
      "execution_count": 185,
      "outputs": [
        {
          "output_type": "stream",
          "name": "stdout",
          "text": [
            "DatetimeIndex(['2017-01-01', '2017-01-02', '2017-01-03', '2017-01-04',\n",
            "               '2017-01-05', '2017-01-06', '2017-01-07'],\n",
            "              dtype='datetime64[ns]', freq='D')\n",
            "2017-01-01    727.01\n",
            "2017-01-02    727.27\n",
            "2017-01-03    728.68\n",
            "2017-01-04    725.78\n",
            "2017-01-05    780.12\n",
            "2017-01-06    720.42\n",
            "2017-01-07    717.23\n",
            "Freq: D, Name: IBM Prices, dtype: float64\n"
          ]
        }
      ]
    },
    {
      "cell_type": "code",
      "metadata": {
        "colab": {
          "base_uri": "https://localhost:8080/"
        },
        "id": "JhdT4FmnkqW3",
        "outputId": "48d70a53-e529-4683-e61e-685c9dac205c"
      },
      "source": [
        "s.index = [6,5,4,3,2,1]\n",
        "print (s)\n",
        "print (s[1])"
      ],
      "execution_count": 167,
      "outputs": [
        {
          "output_type": "stream",
          "name": "stdout",
          "text": [
            "6    143.73\n",
            "5    145.83\n",
            "4    143.68\n",
            "3    144.02\n",
            "2    143.50\n",
            "1    142.62\n",
            "Name: Apple Prices, dtype: float64\n",
            "142.62\n"
          ]
        }
      ]
    },
    {
      "cell_type": "code",
      "metadata": {
        "colab": {
          "base_uri": "https://localhost:8080/"
        },
        "id": "W9cJX0xwlSsJ",
        "outputId": "214ed032-fe36-4f22-f903-e644a77b8492"
      },
      "source": [
        "print (s.iloc[1])"
      ],
      "execution_count": 172,
      "outputs": [
        {
          "output_type": "stream",
          "name": "stdout",
          "text": [
            "145.83\n"
          ]
        }
      ]
    },
    {
      "cell_type": "code",
      "metadata": {
        "colab": {
          "base_uri": "https://localhost:8080/"
        },
        "id": "jjfBXDG8li1k",
        "outputId": "d78d94ca-43e8-4ea2-b9f1-2c65d6d9bcd6"
      },
      "source": [
        "ss.index = [16,15,14,13,12,11,10]\n",
        "print (ss)\n",
        "print (ss[11])"
      ],
      "execution_count": 173,
      "outputs": [
        {
          "output_type": "stream",
          "name": "stdout",
          "text": [
            "16    727.01\n",
            "15    727.27\n",
            "14    728.68\n",
            "13    725.78\n",
            "12    780.12\n",
            "11    720.42\n",
            "10    717.23\n",
            "Name: IBM Prices, dtype: float64\n",
            "720.42\n"
          ]
        }
      ]
    },
    {
      "cell_type": "code",
      "metadata": {
        "colab": {
          "base_uri": "https://localhost:8080/"
        },
        "id": "W8TgyuNGlp-_",
        "outputId": "b699b3fc-05c3-4056-da26-e8d463061005"
      },
      "source": [
        "print (ss.iloc[1])"
      ],
      "execution_count": 174,
      "outputs": [
        {
          "output_type": "stream",
          "name": "stdout",
          "text": [
            "727.27\n"
          ]
        }
      ]
    },
    {
      "cell_type": "code",
      "metadata": {
        "colab": {
          "base_uri": "https://localhost:8080/"
        },
        "id": "JeUhsgF5lygl",
        "outputId": "b6f9406d-6e45-4948-f3eb-bd165a92b470"
      },
      "source": [
        "s.index = time_index\n",
        "print (s['2017-01-03'])"
      ],
      "execution_count": 184,
      "outputs": [
        {
          "output_type": "stream",
          "name": "stdout",
          "text": [
            "143.68\n"
          ]
        }
      ]
    },
    {
      "cell_type": "code",
      "metadata": {
        "colab": {
          "base_uri": "https://localhost:8080/"
        },
        "id": "4Hq-QvNRmBfe",
        "outputId": "61693bc0-1cab-4dba-8345-ee9b02a8d87b"
      },
      "source": [
        "ss.index = time_index\n",
        "print (ss['2017-01-02'])"
      ],
      "execution_count": 187,
      "outputs": [
        {
          "output_type": "stream",
          "name": "stdout",
          "text": [
            "727.27\n"
          ]
        }
      ]
    },
    {
      "cell_type": "code",
      "metadata": {
        "colab": {
          "base_uri": "https://localhost:8080/"
        },
        "id": "2yRfGP8BmUbs",
        "outputId": "1ece62de-4b5a-4cd4-c69e-0a784ab9af22"
      },
      "source": [
        "print (s['2017-01-02':'2017-01-05'])"
      ],
      "execution_count": 189,
      "outputs": [
        {
          "output_type": "stream",
          "name": "stdout",
          "text": [
            "2017-01-02    145.83\n",
            "2017-01-03    143.68\n",
            "2017-01-04    144.02\n",
            "2017-01-05    143.50\n",
            "Freq: D, Name: Apple Prices, dtype: float64\n"
          ]
        }
      ]
    },
    {
      "cell_type": "code",
      "metadata": {
        "colab": {
          "base_uri": "https://localhost:8080/"
        },
        "id": "peuPiPEImqQL",
        "outputId": "155b25de-7c12-46ce-c338-d21cbd46c5e2"
      },
      "source": [
        "print (ss['2017-01-02':'2017-01-05'])"
      ],
      "execution_count": 190,
      "outputs": [
        {
          "output_type": "stream",
          "name": "stdout",
          "text": [
            "2017-01-02    727.27\n",
            "2017-01-03    728.68\n",
            "2017-01-04    725.78\n",
            "2017-01-05    780.12\n",
            "Freq: D, Name: IBM Prices, dtype: float64\n"
          ]
        }
      ]
    },
    {
      "cell_type": "code",
      "metadata": {
        "colab": {
          "base_uri": "https://localhost:8080/"
        },
        "id": "rqfU4qMQm3ul",
        "outputId": "2e7fe7b3-d2e6-44e0-cd4b-b625ad3355fa"
      },
      "source": [
        "print (s[s < np.mean(s)])\n",
        "print (s[(s > np.mean(s)) & (s < np.mean(s) + 1.64*np.std(s))])"
      ],
      "execution_count": 191,
      "outputs": [
        {
          "output_type": "stream",
          "name": "stdout",
          "text": [
            "2017-01-01    143.73\n",
            "2017-01-03    143.68\n",
            "2017-01-05    143.50\n",
            "2017-01-06    142.62\n",
            "Name: Apple Prices, dtype: float64\n",
            "2017-01-04    144.02\n",
            "Freq: D, Name: Apple Prices, dtype: float64\n"
          ]
        }
      ]
    },
    {
      "cell_type": "code",
      "metadata": {
        "colab": {
          "base_uri": "https://localhost:8080/"
        },
        "id": "eI9TBNAxm7HY",
        "outputId": "834ec783-babc-4daa-cdd0-682f2a6fb03b"
      },
      "source": [
        "print (ss[ss < np.mean(ss)])\n",
        "print (ss[(ss > np.mean(ss)) & (ss < np.mean(ss) + 1.64*np.std(ss))])"
      ],
      "execution_count": 192,
      "outputs": [
        {
          "output_type": "stream",
          "name": "stdout",
          "text": [
            "2017-01-01    727.01\n",
            "2017-01-02    727.27\n",
            "2017-01-03    728.68\n",
            "2017-01-04    725.78\n",
            "2017-01-06    720.42\n",
            "2017-01-07    717.23\n",
            "Name: IBM Prices, dtype: float64\n",
            "Series([], Freq: D, Name: IBM Prices, dtype: float64)\n"
          ]
        }
      ]
    }
  ]
}